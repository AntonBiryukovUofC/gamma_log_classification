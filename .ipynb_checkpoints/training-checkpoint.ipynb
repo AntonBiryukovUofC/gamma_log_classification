{
 "cells": [
  {
   "cell_type": "code",
   "execution_count": 1,
   "metadata": {},
   "outputs": [
    {
     "name": "stdout",
     "output_type": "stream",
     "text": [
      "[name: \"/device:CPU:0\"\n",
      "device_type: \"CPU\"\n",
      "memory_limit: 268435456\n",
      "locality {\n",
      "}\n",
      "incarnation: 17465135239561216428\n",
      ", name: \"/device:GPU:0\"\n",
      "device_type: \"GPU\"\n",
      "memory_limit: 3167145164\n",
      "locality {\n",
      "  bus_id: 1\n",
      "  links {\n",
      "  }\n",
      "}\n",
      "incarnation: 544027636266700356\n",
      "physical_device_desc: \"device: 0, name: GeForce GTX 1050 Ti, pci bus id: 0000:01:00.0, compute capability: 6.1\"\n",
      "]\n"
     ]
    }
   ],
   "source": [
    "#import libs\n",
    "import rawpy\n",
    "import imageio\n",
    "import rawkit\n",
    "from PIL import Image\n",
    "import numpy as np\n",
    "import scipy\n",
    "import gc\n",
    "import cv2\n",
    "\n",
    "import matplotlib.pyplot as plt\n",
    "import tensorflow as tf\n",
    "\n",
    "#show avaliable devices for CUDA to use GPU\n",
    "from tensorflow.python.client import device_lib\n",
    "print(device_lib.list_local_devices())\n",
    "\n",
    "np.random.seed(1)"
   ]
  },
  {
   "cell_type": "code",
   "execution_count": 2,
   "metadata": {},
   "outputs": [
    {
     "name": "stderr",
     "output_type": "stream",
     "text": [
      "Using TensorFlow backend.\n"
     ]
    }
   ],
   "source": [
    "#condiguration of GPU \n",
    "from keras import backend as K\n",
    "# TensorFlow wizardry\n",
    "config = tf.ConfigProto()\n",
    " \n",
    "# Don't pre-allocate memory; allocate as-needed\n",
    "config.gpu_options.allow_growth = True\n",
    " \n",
    "# Only allow a total of half the GPU memory to be allocated\n",
    "config.gpu_options.per_process_gpu_memory_fraction = 0.8\n",
    " \n",
    "# Create a session with the above options specified.\n",
    "K.tensorflow_backend.set_session(tf.Session(config=config))"
   ]
  },
  {
   "cell_type": "code",
   "execution_count": 3,
   "metadata": {},
   "outputs": [],
   "source": [
    "from model import *"
   ]
  },
  {
   "cell_type": "code",
   "execution_count": 4,
   "metadata": {},
   "outputs": [],
   "source": [
    "import tensorflow as tf\n",
    "import keras"
   ]
  },
  {
   "cell_type": "code",
   "execution_count": 5,
   "metadata": {},
   "outputs": [],
   "source": [
    "class DataGenerator(keras.utils.Sequence):\n",
    "    'Generates data for Keras'\n",
    "    def __init__(self, list_IDs, batch_size=32, dim=(256,256), n_channels=3, shuffle=True):\n",
    "        'Initialization'\n",
    "        self.dim = dim\n",
    "        self.batch_size = batch_size\n",
    "        self.list_IDs = list_IDs\n",
    "        self.n_channels = n_channels\n",
    "        self.shuffle = shuffle\n",
    "        self.on_epoch_end()\n",
    "\n",
    "    def __len__(self):\n",
    "        'Denotes the number of batches per epoch'\n",
    "        return int(np.floor(len(self.list_IDs) / self.batch_size))\n",
    "\n",
    "    def __getitem__(self, index):\n",
    "        'Generate one batch of data'\n",
    "        # Generate indexes of the batch\n",
    "        indexes = self.indexes[index*self.batch_size:(index+1)*self.batch_size]\n",
    "\n",
    "        # Find list of IDs\n",
    "        list_IDs_temp = [self.list_IDs[k] for k in indexes]\n",
    "\n",
    "        # Generate data\n",
    "        X, y = self.__data_generation(list_IDs_temp)\n",
    "\n",
    "        return X, y\n",
    "\n",
    "    def on_epoch_end(self):\n",
    "        'Updates indexes after each epoch'\n",
    "        self.indexes = np.arange(1,len(self.list_IDs))\n",
    "        if self.shuffle == True:\n",
    "            np.random.shuffle(self.indexes)\n",
    "\n",
    "    def __data_generation(self, list_IDs_temp):\n",
    "        'Generates data containing batch_size samples' # X : (n_samples, *dim, n_channels)\n",
    "        \n",
    "        \n",
    "        DATA_PATH = 'C:\\\\Users\\\\Dmitrii\\\\Style_photo\\\\dataset\\\\Processed\\\\'\n",
    "        \n",
    "        # Initialization\n",
    "        X = np.empty((self.batch_size, *self.dim, self.n_channels))\n",
    "        y = np.empty((self.batch_size, *self.dim, self.n_channels))\n",
    "        \n",
    "        # Generate data\n",
    "        for i, ID in enumerate(list_IDs_temp):\n",
    "            \n",
    "            \n",
    "            \n",
    "            #stacked picture\n",
    "            #for root, dirs, files in os.walk(DATA_PATH+'input\\\\'+str(ID)+'.jpg'):\n",
    "            X[i,:,:,:] = np.array(Image.open(DATA_PATH+'input\\\\'+str(ID)+'.jpg')).astype('float32')/255\n",
    "\n",
    "            #the picture after white balancing\n",
    "            #for root, dirs, files in os.walk(DATA_PATH+'output\\\\'+str(ID)+'.jpg'):\n",
    "            y[i,:,:,:] = np.array(Image.open(DATA_PATH+'output\\\\'+str(ID)+'.jpg')).astype('float32')/255\n",
    "            \n",
    "            \n",
    "\n",
    "        return X, y"
   ]
  },
  {
   "cell_type": "code",
   "execution_count": 6,
   "metadata": {},
   "outputs": [],
   "source": [
    "from numba import cuda\n",
    "#from model import *\n",
    "from keras.callbacks import EarlyStopping, ModelCheckpoint\n",
    "\n",
    "from keras import backend as K\n",
    "K.clear_session()\n",
    "np.random.seed(42)\n",
    "\n",
    "batch_size = 64\n",
    "\n",
    "data_size = (64,64)\n",
    "\n",
    "train_ID = list(np.arange(1,1300))\n",
    "val_ID = list(np.arange(1300+1,1608+1))"
   ]
  },
  {
   "cell_type": "code",
   "execution_count": 7,
   "metadata": {},
   "outputs": [],
   "source": [
    "    \n",
    "# Train the model\n",
    "train_gen = DataGenerator(list_IDs=train_ID,batch_size=batch_size,dim=data_size)\n",
    "val_gen = DataGenerator(list_IDs=val_ID,batch_size =batch_size,dim=data_size)"
   ]
  },
  {
   "cell_type": "code",
   "execution_count": 8,
   "metadata": {},
   "outputs": [],
   "source": [
    "#load the model\n",
    "def contrastive_loss(y_true, y_pred):\n",
    "    margin = 1\n",
    "    return K.mean(y_true * K.square(y_pred) + (1 - y_true) * K.square(K.maximum(margin - y_pred, 0)))"
   ]
  },
  {
   "cell_type": "code",
   "execution_count": 13,
   "metadata": {},
   "outputs": [
    {
     "name": "stdout",
     "output_type": "stream",
     "text": [
      "__________________________________________________________________________________________________\n",
      "Layer (type)                    Output Shape         Param #     Connected to                     \n",
      "==================================================================================================\n",
      "input_2 (InputLayer)            (None, 64, 64, 3)    0                                            \n",
      "__________________________________________________________________________________________________\n",
      "conv2d_24 (Conv2D)              (None, 64, 64, 64)   1792        input_2[0][0]                    \n",
      "__________________________________________________________________________________________________\n",
      "conv2d_25 (Conv2D)              (None, 64, 64, 64)   36928       conv2d_24[0][0]                  \n",
      "__________________________________________________________________________________________________\n",
      "batch_normalization_10 (BatchNo (None, 64, 64, 64)   256         conv2d_25[0][0]                  \n",
      "__________________________________________________________________________________________________\n",
      "activation_10 (Activation)      (None, 64, 64, 64)   0           batch_normalization_10[0][0]     \n",
      "__________________________________________________________________________________________________\n",
      "max_pooling2d_5 (MaxPooling2D)  (None, 32, 32, 64)   0           activation_10[0][0]              \n",
      "__________________________________________________________________________________________________\n",
      "conv2d_26 (Conv2D)              (None, 32, 32, 128)  73856       max_pooling2d_5[0][0]            \n",
      "__________________________________________________________________________________________________\n",
      "conv2d_27 (Conv2D)              (None, 32, 32, 128)  147584      conv2d_26[0][0]                  \n",
      "__________________________________________________________________________________________________\n",
      "batch_normalization_11 (BatchNo (None, 32, 32, 128)  512         conv2d_27[0][0]                  \n",
      "__________________________________________________________________________________________________\n",
      "max_pooling2d_6 (MaxPooling2D)  (None, 16, 16, 128)  0           batch_normalization_11[0][0]     \n",
      "__________________________________________________________________________________________________\n",
      "conv2d_28 (Conv2D)              (None, 16, 16, 256)  295168      max_pooling2d_6[0][0]            \n",
      "__________________________________________________________________________________________________\n",
      "conv2d_29 (Conv2D)              (None, 16, 16, 256)  590080      conv2d_28[0][0]                  \n",
      "__________________________________________________________________________________________________\n",
      "batch_normalization_12 (BatchNo (None, 16, 16, 256)  1024        conv2d_29[0][0]                  \n",
      "__________________________________________________________________________________________________\n",
      "activation_12 (Activation)      (None, 16, 16, 256)  0           batch_normalization_12[0][0]     \n",
      "__________________________________________________________________________________________________\n",
      "max_pooling2d_7 (MaxPooling2D)  (None, 8, 8, 256)    0           activation_12[0][0]              \n",
      "__________________________________________________________________________________________________\n",
      "conv2d_30 (Conv2D)              (None, 8, 8, 512)    1180160     max_pooling2d_7[0][0]            \n",
      "__________________________________________________________________________________________________\n",
      "conv2d_31 (Conv2D)              (None, 8, 8, 512)    2359808     conv2d_30[0][0]                  \n",
      "__________________________________________________________________________________________________\n",
      "batch_normalization_13 (BatchNo (None, 8, 8, 512)    2048        conv2d_31[0][0]                  \n",
      "__________________________________________________________________________________________________\n",
      "activation_13 (Activation)      (None, 8, 8, 512)    0           batch_normalization_13[0][0]     \n",
      "__________________________________________________________________________________________________\n",
      "max_pooling2d_8 (MaxPooling2D)  (None, 4, 4, 512)    0           activation_13[0][0]              \n",
      "__________________________________________________________________________________________________\n",
      "conv2d_32 (Conv2D)              (None, 4, 4, 1024)   4719616     max_pooling2d_8[0][0]            \n",
      "__________________________________________________________________________________________________\n",
      "conv2d_33 (Conv2D)              (None, 4, 4, 1024)   9438208     conv2d_32[0][0]                  \n",
      "__________________________________________________________________________________________________\n",
      "batch_normalization_14 (BatchNo (None, 4, 4, 1024)   4096        conv2d_33[0][0]                  \n",
      "__________________________________________________________________________________________________\n",
      "activation_14 (Activation)      (None, 4, 4, 1024)   0           batch_normalization_14[0][0]     \n",
      "__________________________________________________________________________________________________\n",
      "up_sampling2d_5 (UpSampling2D)  (None, 8, 8, 1024)   0           activation_14[0][0]              \n",
      "__________________________________________________________________________________________________\n",
      "conv2d_34 (Conv2D)              (None, 8, 8, 512)    2097664     up_sampling2d_5[0][0]            \n",
      "__________________________________________________________________________________________________\n",
      "concatenate_5 (Concatenate)     (None, 8, 8, 1024)   0           activation_13[0][0]              \n",
      "                                                                 conv2d_34[0][0]                  \n",
      "__________________________________________________________________________________________________\n",
      "conv2d_35 (Conv2D)              (None, 8, 8, 512)    4719104     concatenate_5[0][0]              \n",
      "__________________________________________________________________________________________________\n",
      "conv2d_36 (Conv2D)              (None, 8, 8, 512)    2359808     conv2d_35[0][0]                  \n",
      "__________________________________________________________________________________________________\n",
      "batch_normalization_15 (BatchNo (None, 8, 8, 512)    2048        conv2d_36[0][0]                  \n",
      "__________________________________________________________________________________________________\n",
      "activation_15 (Activation)      (None, 8, 8, 512)    0           batch_normalization_15[0][0]     \n",
      "__________________________________________________________________________________________________\n",
      "up_sampling2d_6 (UpSampling2D)  (None, 16, 16, 512)  0           activation_15[0][0]              \n",
      "__________________________________________________________________________________________________\n",
      "conv2d_37 (Conv2D)              (None, 16, 16, 256)  524544      up_sampling2d_6[0][0]            \n",
      "__________________________________________________________________________________________________\n",
      "concatenate_6 (Concatenate)     (None, 16, 16, 512)  0           activation_12[0][0]              \n",
      "                                                                 conv2d_37[0][0]                  \n",
      "__________________________________________________________________________________________________\n",
      "conv2d_38 (Conv2D)              (None, 16, 16, 256)  1179904     concatenate_6[0][0]              \n",
      "__________________________________________________________________________________________________\n",
      "conv2d_39 (Conv2D)              (None, 16, 16, 256)  590080      conv2d_38[0][0]                  \n",
      "__________________________________________________________________________________________________\n",
      "batch_normalization_16 (BatchNo (None, 16, 16, 256)  1024        conv2d_39[0][0]                  \n",
      "__________________________________________________________________________________________________\n",
      "activation_16 (Activation)      (None, 16, 16, 256)  0           batch_normalization_16[0][0]     \n",
      "__________________________________________________________________________________________________\n",
      "up_sampling2d_7 (UpSampling2D)  (None, 32, 32, 256)  0           activation_16[0][0]              \n",
      "__________________________________________________________________________________________________\n",
      "conv2d_40 (Conv2D)              (None, 32, 32, 128)  131200      up_sampling2d_7[0][0]            \n",
      "__________________________________________________________________________________________________\n",
      "concatenate_7 (Concatenate)     (None, 32, 32, 256)  0           batch_normalization_11[0][0]     \n",
      "                                                                 conv2d_40[0][0]                  \n",
      "__________________________________________________________________________________________________\n",
      "conv2d_41 (Conv2D)              (None, 32, 32, 128)  295040      concatenate_7[0][0]              \n",
      "__________________________________________________________________________________________________\n",
      "conv2d_42 (Conv2D)              (None, 32, 32, 128)  147584      conv2d_41[0][0]                  \n",
      "__________________________________________________________________________________________________\n",
      "batch_normalization_17 (BatchNo (None, 32, 32, 128)  512         conv2d_42[0][0]                  \n",
      "__________________________________________________________________________________________________\n",
      "activation_17 (Activation)      (None, 32, 32, 128)  0           batch_normalization_17[0][0]     \n",
      "__________________________________________________________________________________________________\n",
      "up_sampling2d_8 (UpSampling2D)  (None, 64, 64, 128)  0           activation_17[0][0]              \n",
      "__________________________________________________________________________________________________\n",
      "activation_11 (Activation)      (None, 64, 64, 64)   0           activation_10[0][0]              \n",
      "__________________________________________________________________________________________________\n",
      "conv2d_43 (Conv2D)              (None, 64, 64, 64)   32832       up_sampling2d_8[0][0]            \n",
      "__________________________________________________________________________________________________\n",
      "concatenate_8 (Concatenate)     (None, 64, 64, 128)  0           activation_11[0][0]              \n",
      "                                                                 conv2d_43[0][0]                  \n",
      "__________________________________________________________________________________________________\n",
      "conv2d_44 (Conv2D)              (None, 64, 64, 64)   73792       concatenate_8[0][0]              \n",
      "__________________________________________________________________________________________________\n",
      "conv2d_45 (Conv2D)              (None, 64, 64, 64)   36928       conv2d_44[0][0]                  \n",
      "__________________________________________________________________________________________________\n",
      "batch_normalization_18 (BatchNo (None, 64, 64, 64)   256         conv2d_45[0][0]                  \n",
      "__________________________________________________________________________________________________\n",
      "activation_18 (Activation)      (None, 64, 64, 64)   0           batch_normalization_18[0][0]     \n",
      "__________________________________________________________________________________________________\n",
      "conv2d_46 (Conv2D)              (None, 64, 64, 3)    1731        activation_18[0][0]              \n",
      "__________________________________________________________________________________________________\n",
      "add_2 (Add)                     (None, 64, 64, 3)    0           input_2[0][0]                    \n",
      "                                                                 conv2d_46[0][0]                  \n",
      "==================================================================================================\n",
      "Total params: 31,045,187\n",
      "Trainable params: 31,039,299\n",
      "Non-trainable params: 5,888\n",
      "__________________________________________________________________________________________________\n"
     ]
    },
    {
     "name": "stdout",
     "output_type": "stream",
     "text": [
      "Epoch 1/100\n",
      "20/20 [==============================] - 20s 981ms/step - loss: 0.1407 - mean_squared_error: 0.1407 - val_loss: 0.0337 - val_mean_squared_error: 0.0337\n",
      "\n",
      "Epoch 00001: val_loss improved from inf to 0.03373, saving model to model-style_abs.h5\n",
      "Epoch 2/100\n",
      "20/20 [==============================] - 14s 695ms/step - loss: 0.0327 - mean_squared_error: 0.0327 - val_loss: 0.0319 - val_mean_squared_error: 0.0319\n",
      "\n",
      "Epoch 00002: val_loss improved from 0.03373 to 0.03186, saving model to model-style_abs.h5\n",
      "Epoch 3/100\n",
      "20/20 [==============================] - 14s 698ms/step - loss: 0.0317 - mean_squared_error: 0.0317 - val_loss: 0.0323 - val_mean_squared_error: 0.0323\n",
      "\n",
      "Epoch 00003: val_loss did not improve from 0.03186\n",
      "Epoch 4/100\n",
      "20/20 [==============================] - 14s 699ms/step - loss: 0.0316 - mean_squared_error: 0.0316 - val_loss: 0.0324 - val_mean_squared_error: 0.0324\n",
      "\n",
      "Epoch 00004: val_loss did not improve from 0.03186\n",
      "Epoch 5/100\n",
      "20/20 [==============================] - 14s 709ms/step - loss: 0.0315 - mean_squared_error: 0.0315 - val_loss: 0.0315 - val_mean_squared_error: 0.0315\n",
      "\n",
      "Epoch 00005: val_loss improved from 0.03186 to 0.03155, saving model to model-style_abs.h5\n",
      "Epoch 6/100\n",
      "20/20 [==============================] - 14s 719ms/step - loss: 0.0314 - mean_squared_error: 0.0314 - val_loss: 0.0318 - val_mean_squared_error: 0.0318\n",
      "\n",
      "Epoch 00006: val_loss did not improve from 0.03155\n",
      "Epoch 7/100\n",
      "20/20 [==============================] - 15s 732ms/step - loss: 0.0312 - mean_squared_error: 0.0312 - val_loss: 0.0317 - val_mean_squared_error: 0.0317\n",
      "\n",
      "Epoch 00007: val_loss did not improve from 0.03155\n",
      "Epoch 8/100\n",
      "20/20 [==============================] - 15s 740ms/step - loss: 0.0312 - mean_squared_error: 0.0312 - val_loss: 0.0311 - val_mean_squared_error: 0.0311\n",
      "\n",
      "Epoch 00008: val_loss improved from 0.03155 to 0.03114, saving model to model-style_abs.h5\n",
      "Epoch 9/100\n",
      "20/20 [==============================] - 15s 745ms/step - loss: 0.0310 - mean_squared_error: 0.0310 - val_loss: 0.0315 - val_mean_squared_error: 0.0315\n",
      "\n",
      "Epoch 00009: val_loss did not improve from 0.03114\n",
      "Epoch 10/100\n",
      "20/20 [==============================] - 15s 753ms/step - loss: 0.0309 - mean_squared_error: 0.0309 - val_loss: 0.0304 - val_mean_squared_error: 0.0304\n",
      "\n",
      "Epoch 00010: val_loss improved from 0.03114 to 0.03042, saving model to model-style_abs.h5\n",
      "Epoch 11/100\n",
      "20/20 [==============================] - 15s 760ms/step - loss: 0.0309 - mean_squared_error: 0.0309 - val_loss: 0.0316 - val_mean_squared_error: 0.0316\n",
      "\n",
      "Epoch 00011: val_loss did not improve from 0.03042\n",
      "Epoch 12/100\n",
      "20/20 [==============================] - 15s 766ms/step - loss: 0.0308 - mean_squared_error: 0.0308 - val_loss: 0.0317 - val_mean_squared_error: 0.0317\n",
      "\n",
      "Epoch 00012: val_loss did not improve from 0.03042\n",
      "Epoch 00012: early stopping\n"
     ]
    }
   ],
   "source": [
    "\n",
    "\n",
    "lr=0.001 #learning rate\n",
    "epochs = 100 # n_epochs\n",
    "patience = 10 #early stopping\n",
    "min_delta=0.01 #early stopping\n",
    "\n",
    "input_size = (data_size[0],data_size[1],3)\n",
    "\n",
    "\n",
    "\n",
    "model = unet(pretrained_weights = None, input_size = input_size)\n",
    "#model.compile(optimizer = Adam(lr), loss = 'mean_absolute_error', metrics = ['mean_absolute_error'])\n",
    "rms = RMSprop()\n",
    "#model.compile(loss='mean_absolute_error', optimizer=rms,metrics='mean_absolute_error')\n",
    "model.compile(optimizer = SGD(lr=lr,momentum=0.9), loss = '', metrics = ['mean_squared_error'])\n",
    "\n",
    "\n",
    "\n",
    "#early stopping\n",
    "earlystopper = EarlyStopping(monitor='mean_squared_error', patience=patience, verbose=1, mode='min',min_delta=min_delta)\n",
    "checkpointer = ModelCheckpoint('model-style_abs.h5', monitor='val_loss', mode='min',verbose=1, save_best_only=True)\n",
    "\n",
    "\n",
    "    \n",
    "#train model\n",
    "results = model.fit_generator(train_gen, epochs=epochs,\n",
    "                    callbacks=[earlystopper, checkpointer],\n",
    "                   validation_data = val_gen)\n",
    "    "
   ]
  },
  {
   "cell_type": "code",
   "execution_count": 10,
   "metadata": {},
   "outputs": [],
   "source": [
    "DATA_PATH = 'C:\\\\Users\\\\Dmitrii\\\\Style_photo\\\\dataset\\\\Processed\\\\'\n",
    "\n",
    "model.load_weights('model-style_abs.h5', by_name=True)\n",
    "\n",
    "\n",
    "\n",
    "XTest = np.empty((len(val_ID), *data_size, 3))\n",
    "yTest = np.empty((len(val_ID), *data_size, 3))\n",
    "pred = np.empty((len(val_ID), *data_size, 3))\n",
    "\n",
    "\n",
    "for i, ID in enumerate(val_ID):\n",
    "    # Store sample\n",
    "    XTest[i,:,:,:] = np.array(Image.open(DATA_PATH+'input\\\\'+str(ID)+'.jpg')).astype('float32')/255\n",
    "    yTest[i,:,:,:] = np.array(Image.open(DATA_PATH+'output\\\\'+str(ID)+'.jpg')).astype('float32')/255\n",
    "    pred[i,:,:,:] = model.predict(np.reshape(XTest[i,:,:,:],[1,*data_size,3]))"
   ]
  },
  {
   "cell_type": "code",
   "execution_count": 14,
   "metadata": {
    "scrolled": true
   },
   "outputs": [
    {
     "data": {
      "text/plain": [
       "<matplotlib.image.AxesImage at 0x1fb8f603e80>"
      ]
     },
     "execution_count": 14,
     "metadata": {},
     "output_type": "execute_result"
    },
    {
     "data": {
      "image/png": "[encoded data removed]",
      "text/plain": [
       "<Figure size 432x288 with 1 Axes>"
      ]
     },
     "metadata": {
      "needs_background": "light"
     },
     "output_type": "display_data"
    },
    {
     "data": {
      "image/png": "[encoded data removed]",
      "text/plain": [
       "<Figure size 432x288 with 1 Axes>"
      ]
     },
     "metadata": {
      "needs_background": "light"
     },
     "output_type": "display_data"
    },
    {
     "data": {
      "image/png": "[encoded data removed]",
      "text/plain": [
       "<Figure size 432x288 with 1 Axes>"
      ]
     },
     "metadata": {
      "needs_background": "light"
     },
     "output_type": "display_data"
    }
   ],
   "source": [
    "i = 10\n",
    "plt.figure()\n",
    "plt.imshow(pred[i,:,:,:])\n",
    "plt.figure()\n",
    "plt.imshow(yTest[i,:,:,:])\n",
    "plt.figure()\n",
    "plt.imshow(XTest[i,:,:,:])"
   ]
  },
  {
   "cell_type": "code",
   "execution_count": null,
   "metadata": {},
   "outputs": [],
   "source": []
  }
 ],
 "metadata": {
  "kernelspec": {
   "display_name": "Python 3",
   "language": "python",
   "name": "python3"
  },
  "language_info": {
   "codemirror_mode": {
    "name": "ipython",
    "version": 3
   },
   "file_extension": ".py",
   "mimetype": "text/x-python",
   "name": "python",
   "nbconvert_exporter": "python",
   "pygments_lexer": "ipython3",
   "version": "3.6.8"
  }
 },
 "nbformat": 4,
 "nbformat_minor": 2
}
