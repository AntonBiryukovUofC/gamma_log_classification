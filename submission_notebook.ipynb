{
 "cells": [
  {
   "cell_type": "code",
   "execution_count": null,
   "metadata": {},
   "outputs": [],
   "source": [
    "#### 0. <a href=#Prepare-conda-environment>Prepare conda environment</a> \n",
    "#### 1. <a href=#Load-Python-Libraries>Load packages</a> \n",
    "#### 2. <a href=#Load-the-data>Load train and test files</a> \n",
    "#### 3. <a href=#Check-the-data>Check the data</a> \n",
    "#### 4. <a href=#Building-some-useful-functions>Building some useful functions</a> \n",
    "#### 5. <a href=#Feature-engineering>Feature engineering</a>\n",
    "#### 5. <a href=#Prepare-the-test-set-for-submision>Prepare the test set for submision</a>\n",
    "#### 7. <a href=Generate-submission-file> Generate submission file</a>"
   ]
  },
  {
   "cell_type": "markdown",
   "metadata": {},
   "source": [
    "# Prepare conda environment"
   ]
  },
  {
   "cell_type": "code",
   "execution_count": null,
   "metadata": {},
   "outputs": [],
   "source": [
    "!conda env create -n pytf36 tensorflow-gpu==1.14.0"
   ]
  },
  {
   "cell_type": "markdown",
   "metadata": {},
   "source": [
    "# Load Python Libraries"
   ]
  },
  {
   "cell_type": "code",
   "execution_count": null,
   "metadata": {},
   "outputs": [],
   "source": []
  },
  {
   "cell_type": "code",
   "execution_count": 1,
   "metadata": {
    "scrolled": true
   },
   "outputs": [
    {
     "name": "stderr",
     "output_type": "stream",
     "text": [
      "Using TensorFlow backend.\n",
      "/home/geoanton/anaconda3/envs/keras/lib/python3.6/site-packages/tensorflow/python/framework/dtypes.py:516: FutureWarning: Passing (type, 1) or '1type' as a synonym of type is deprecated; in a future version of numpy, it will be understood as (type, (1,)) / '(1,)type'.\n",
      "  _np_qint8 = np.dtype([(\"qint8\", np.int8, 1)])\n",
      "/home/geoanton/anaconda3/envs/keras/lib/python3.6/site-packages/tensorflow/python/framework/dtypes.py:517: FutureWarning: Passing (type, 1) or '1type' as a synonym of type is deprecated; in a future version of numpy, it will be understood as (type, (1,)) / '(1,)type'.\n",
      "  _np_quint8 = np.dtype([(\"quint8\", np.uint8, 1)])\n",
      "/home/geoanton/anaconda3/envs/keras/lib/python3.6/site-packages/tensorflow/python/framework/dtypes.py:518: FutureWarning: Passing (type, 1) or '1type' as a synonym of type is deprecated; in a future version of numpy, it will be understood as (type, (1,)) / '(1,)type'.\n",
      "  _np_qint16 = np.dtype([(\"qint16\", np.int16, 1)])\n",
      "/home/geoanton/anaconda3/envs/keras/lib/python3.6/site-packages/tensorflow/python/framework/dtypes.py:519: FutureWarning: Passing (type, 1) or '1type' as a synonym of type is deprecated; in a future version of numpy, it will be understood as (type, (1,)) / '(1,)type'.\n",
      "  _np_quint16 = np.dtype([(\"quint16\", np.uint16, 1)])\n",
      "/home/geoanton/anaconda3/envs/keras/lib/python3.6/site-packages/tensorflow/python/framework/dtypes.py:520: FutureWarning: Passing (type, 1) or '1type' as a synonym of type is deprecated; in a future version of numpy, it will be understood as (type, (1,)) / '(1,)type'.\n",
      "  _np_qint32 = np.dtype([(\"qint32\", np.int32, 1)])\n",
      "/home/geoanton/anaconda3/envs/keras/lib/python3.6/site-packages/tensorflow/python/framework/dtypes.py:525: FutureWarning: Passing (type, 1) or '1type' as a synonym of type is deprecated; in a future version of numpy, it will be understood as (type, (1,)) / '(1,)type'.\n",
      "  np_resource = np.dtype([(\"resource\", np.ubyte, 1)])\n"
     ]
    },
    {
     "name": "stdout",
     "output_type": "stream",
     "text": [
      "WARNING:tensorflow:From /home/geoanton/Repos/gamma_log_classification/config.py:26: The name tf.set_random_seed is deprecated. Please use tf.compat.v1.set_random_seed instead.\n",
      "\n"
     ]
    },
    {
     "name": "stderr",
     "output_type": "stream",
     "text": [
      "/home/geoanton/anaconda3/envs/keras/lib/python3.6/site-packages/tensorboard/compat/tensorflow_stub/dtypes.py:541: FutureWarning: Passing (type, 1) or '1type' as a synonym of type is deprecated; in a future version of numpy, it will be understood as (type, (1,)) / '(1,)type'.\n",
      "  _np_qint8 = np.dtype([(\"qint8\", np.int8, 1)])\n",
      "/home/geoanton/anaconda3/envs/keras/lib/python3.6/site-packages/tensorboard/compat/tensorflow_stub/dtypes.py:542: FutureWarning: Passing (type, 1) or '1type' as a synonym of type is deprecated; in a future version of numpy, it will be understood as (type, (1,)) / '(1,)type'.\n",
      "  _np_quint8 = np.dtype([(\"quint8\", np.uint8, 1)])\n",
      "/home/geoanton/anaconda3/envs/keras/lib/python3.6/site-packages/tensorboard/compat/tensorflow_stub/dtypes.py:543: FutureWarning: Passing (type, 1) or '1type' as a synonym of type is deprecated; in a future version of numpy, it will be understood as (type, (1,)) / '(1,)type'.\n",
      "  _np_qint16 = np.dtype([(\"qint16\", np.int16, 1)])\n",
      "/home/geoanton/anaconda3/envs/keras/lib/python3.6/site-packages/tensorboard/compat/tensorflow_stub/dtypes.py:544: FutureWarning: Passing (type, 1) or '1type' as a synonym of type is deprecated; in a future version of numpy, it will be understood as (type, (1,)) / '(1,)type'.\n",
      "  _np_quint16 = np.dtype([(\"quint16\", np.uint16, 1)])\n",
      "/home/geoanton/anaconda3/envs/keras/lib/python3.6/site-packages/tensorboard/compat/tensorflow_stub/dtypes.py:545: FutureWarning: Passing (type, 1) or '1type' as a synonym of type is deprecated; in a future version of numpy, it will be understood as (type, (1,)) / '(1,)type'.\n",
      "  _np_qint32 = np.dtype([(\"qint32\", np.int32, 1)])\n",
      "/home/geoanton/anaconda3/envs/keras/lib/python3.6/site-packages/tensorboard/compat/tensorflow_stub/dtypes.py:550: FutureWarning: Passing (type, 1) or '1type' as a synonym of type is deprecated; in a future version of numpy, it will be understood as (type, (1,)) / '(1,)type'.\n",
      "  np_resource = np.dtype([(\"resource\", np.ubyte, 1)])\n"
     ]
    }
   ],
   "source": [
    "#\n",
    "# data processing\n",
    "import pandas as pd\n",
    "import numpy as np\n",
    "from scipy.signal import medfilt\n",
    "from sklearn.preprocessing import MinMaxScaler\n",
    "#model estimation\n",
    "from sklearn.metrics import accuracy_score\n",
    "#custom functions\n",
    "from config import *\n",
    "from DataGenerator import *\n",
    "import tensorflow as tf\n",
    "from tensorflow.compat.v1.keras.backend import set_session\n",
    "config = tf.compat.v1.ConfigProto()\n",
    "config.gpu_options.allow_growth = True  # dynamically grow the memory used on the GPU\n",
    "config.log_device_placement = True  # to log device placement (on which device the operation ran)\n",
    "sess = tf.compat.v1.Session(config=config)\n",
    "set_session(sess)\n"
   ]
  },
  {
   "cell_type": "markdown",
   "metadata": {},
   "source": [
    "# Load the data\n",
    "\n",
    "To run on a private test set, set `TEST_NAME` to a location of the private test csv."
   ]
  },
  {
   "cell_type": "code",
   "execution_count": 2,
   "metadata": {},
   "outputs": [
    {
     "data": {
      "text/html": [
       "<div>\n",
       "<style scoped>\n",
       "    .dataframe tbody tr th:only-of-type {\n",
       "        vertical-align: middle;\n",
       "    }\n",
       "\n",
       "    .dataframe tbody tr th {\n",
       "        vertical-align: top;\n",
       "    }\n",
       "\n",
       "    .dataframe thead th {\n",
       "        text-align: right;\n",
       "    }\n",
       "</style>\n",
       "<table border=\"1\" class=\"dataframe\">\n",
       "  <thead>\n",
       "    <tr style=\"text-align: right;\">\n",
       "      <th></th>\n",
       "      <th>row_id</th>\n",
       "      <th>well_id</th>\n",
       "      <th>GR</th>\n",
       "    </tr>\n",
       "  </thead>\n",
       "  <tbody>\n",
       "    <tr>\n",
       "      <th>0</th>\n",
       "      <td>0</td>\n",
       "      <td>5000</td>\n",
       "      <td>134.943504</td>\n",
       "    </tr>\n",
       "    <tr>\n",
       "      <th>1</th>\n",
       "      <td>1</td>\n",
       "      <td>5000</td>\n",
       "      <td>127.004675</td>\n",
       "    </tr>\n",
       "    <tr>\n",
       "      <th>2</th>\n",
       "      <td>2</td>\n",
       "      <td>5000</td>\n",
       "      <td>133.159255</td>\n",
       "    </tr>\n",
       "    <tr>\n",
       "      <th>3</th>\n",
       "      <td>3</td>\n",
       "      <td>5000</td>\n",
       "      <td>134.411762</td>\n",
       "    </tr>\n",
       "    <tr>\n",
       "      <th>4</th>\n",
       "      <td>4</td>\n",
       "      <td>5000</td>\n",
       "      <td>135.748644</td>\n",
       "    </tr>\n",
       "  </tbody>\n",
       "</table>\n",
       "</div>"
      ],
      "text/plain": [
       "   row_id  well_id          GR\n",
       "0       0     5000  134.943504\n",
       "1       1     5000  127.004675\n",
       "2       2     5000  133.159255\n",
       "3       3     5000  134.411762\n",
       "4       4     5000  135.748644"
      ]
     },
     "execution_count": 2,
     "metadata": {},
     "output_type": "execute_result"
    }
   ],
   "source": [
    "\n",
    "DATA_PATH = './data/raw/'\n",
    "TEST_NAME = f'{DATA_PATH}test.csv'\n",
    "\n",
    "test = pd.read_csv(TEST_NAME)\n",
    "test.head()"
   ]
  },
  {
   "cell_type": "code",
   "execution_count": 3,
   "metadata": {},
   "outputs": [],
   "source": [
    "GetData=DataGenerator()"
   ]
  },
  {
   "cell_type": "code",
   "execution_count": 4,
   "metadata": {
    "scrolled": true
   },
   "outputs": [
    {
     "name": "stdout",
     "output_type": "stream",
     "text": [
      "Model: \"model_1\"\n",
      "_________________________________________________________________\n",
      "Layer (type)                 Output Shape              Param #   \n",
      "=================================================================\n",
      "input_1 (InputLayer)         (None, 1104, 70)          0         \n",
      "_________________________________________________________________\n",
      "bidirectional_1 (Bidirection (None, 1104, 512)         503808    \n",
      "_________________________________________________________________\n",
      "activation_1 (Activation)    (None, 1104, 512)         0         \n",
      "_________________________________________________________________\n",
      "bidirectional_2 (Bidirection (None, 1104, 256)         493056    \n",
      "_________________________________________________________________\n",
      "activation_2 (Activation)    (None, 1104, 256)         0         \n",
      "_________________________________________________________________\n",
      "bidirectional_3 (Bidirection (None, 1104, 256)         296448    \n",
      "_________________________________________________________________\n",
      "activation_3 (Activation)    (None, 1104, 256)         0         \n",
      "_________________________________________________________________\n",
      "time_distributed_1 (TimeDist (None, 1104, 5)           1285      \n",
      "=================================================================\n",
      "Total params: 1,294,597\n",
      "Trainable params: 1,294,597\n",
      "Non-trainable params: 0\n",
      "_________________________________________________________________\n",
      "None\n",
      "WARNING:tensorflow:From /home/geoanton/anaconda3/envs/keras/lib/python3.6/site-packages/keras/backend/tensorflow_backend.py:422: The name tf.global_variables is deprecated. Please use tf.compat.v1.global_variables instead.\n",
      "\n",
      "Model: \"model_2\"\n",
      "_________________________________________________________________\n",
      "Layer (type)                 Output Shape              Param #   \n",
      "=================================================================\n",
      "input_2 (InputLayer)         (None, 1104, 70)          0         \n",
      "_________________________________________________________________\n",
      "bidirectional_4 (Bidirection (None, 1104, 512)         503808    \n",
      "_________________________________________________________________\n",
      "activation_4 (Activation)    (None, 1104, 512)         0         \n",
      "_________________________________________________________________\n",
      "bidirectional_5 (Bidirection (None, 1104, 256)         493056    \n",
      "_________________________________________________________________\n",
      "activation_5 (Activation)    (None, 1104, 256)         0         \n",
      "_________________________________________________________________\n",
      "bidirectional_6 (Bidirection (None, 1104, 256)         296448    \n",
      "_________________________________________________________________\n",
      "activation_6 (Activation)    (None, 1104, 256)         0         \n",
      "_________________________________________________________________\n",
      "time_distributed_2 (TimeDist (None, 1104, 5)           1285      \n",
      "=================================================================\n",
      "Total params: 1,294,597\n",
      "Trainable params: 1,294,597\n",
      "Non-trainable params: 0\n",
      "_________________________________________________________________\n",
      "None\n",
      "Model: \"model_3\"\n",
      "_________________________________________________________________\n",
      "Layer (type)                 Output Shape              Param #   \n",
      "=================================================================\n",
      "input_3 (InputLayer)         (None, 1104, 70)          0         \n",
      "_________________________________________________________________\n",
      "bidirectional_7 (Bidirection (None, 1104, 512)         503808    \n",
      "_________________________________________________________________\n",
      "activation_7 (Activation)    (None, 1104, 512)         0         \n",
      "_________________________________________________________________\n",
      "bidirectional_8 (Bidirection (None, 1104, 256)         493056    \n",
      "_________________________________________________________________\n",
      "activation_8 (Activation)    (None, 1104, 256)         0         \n",
      "_________________________________________________________________\n",
      "bidirectional_9 (Bidirection (None, 1104, 256)         296448    \n",
      "_________________________________________________________________\n",
      "activation_9 (Activation)    (None, 1104, 256)         0         \n",
      "_________________________________________________________________\n",
      "time_distributed_3 (TimeDist (None, 1104, 5)           1285      \n",
      "=================================================================\n",
      "Total params: 1,294,597\n",
      "Trainable params: 1,294,597\n",
      "Non-trainable params: 0\n",
      "_________________________________________________________________\n",
      "None\n",
      "Model: \"model_4\"\n",
      "_________________________________________________________________\n",
      "Layer (type)                 Output Shape              Param #   \n",
      "=================================================================\n",
      "input_4 (InputLayer)         (None, 1104, 70)          0         \n",
      "_________________________________________________________________\n",
      "bidirectional_10 (Bidirectio (None, 1104, 512)         503808    \n",
      "_________________________________________________________________\n",
      "activation_10 (Activation)   (None, 1104, 512)         0         \n",
      "_________________________________________________________________\n",
      "bidirectional_11 (Bidirectio (None, 1104, 256)         493056    \n",
      "_________________________________________________________________\n",
      "activation_11 (Activation)   (None, 1104, 256)         0         \n",
      "_________________________________________________________________\n",
      "bidirectional_12 (Bidirectio (None, 1104, 256)         296448    \n",
      "_________________________________________________________________\n",
      "activation_12 (Activation)   (None, 1104, 256)         0         \n",
      "_________________________________________________________________\n",
      "time_distributed_4 (TimeDist (None, 1104, 5)           1285      \n",
      "=================================================================\n",
      "Total params: 1,294,597\n",
      "Trainable params: 1,294,597\n",
      "Non-trainable params: 0\n",
      "_________________________________________________________________\n",
      "None\n",
      "Model: \"model_5\"\n",
      "_________________________________________________________________\n",
      "Layer (type)                 Output Shape              Param #   \n",
      "=================================================================\n",
      "input_5 (InputLayer)         (None, 1104, 70)          0         \n",
      "_________________________________________________________________\n",
      "bidirectional_13 (Bidirectio (None, 1104, 512)         503808    \n",
      "_________________________________________________________________\n",
      "activation_13 (Activation)   (None, 1104, 512)         0         \n",
      "_________________________________________________________________\n",
      "bidirectional_14 (Bidirectio (None, 1104, 256)         493056    \n",
      "_________________________________________________________________\n",
      "activation_14 (Activation)   (None, 1104, 256)         0         \n",
      "_________________________________________________________________\n",
      "bidirectional_15 (Bidirectio (None, 1104, 256)         296448    \n",
      "_________________________________________________________________\n",
      "activation_15 (Activation)   (None, 1104, 256)         0         \n",
      "_________________________________________________________________\n",
      "time_distributed_5 (TimeDist (None, 1104, 5)           1285      \n",
      "=================================================================\n",
      "Total params: 1,294,597\n",
      "Trainable params: 1,294,597\n",
      "Non-trainable params: 0\n",
      "_________________________________________________________________\n",
      "None\n"
     ]
    }
   ],
   "source": [
    "predictions = np.zeros((GetData.X_test.shape[0],1104,5))\n",
    "\n",
    "for i in range(5):\n",
    "    model=DL_model(input_size=(GetData.X_test.shape[1],GetData.X_test.shape[2]) ,hyperparams=HYPERPARAM)\n",
    "    model.load_weights(f'./data/weights/LSTM_model_{i}_.h5')\n",
    "    predictions += model.predict(GetData.X_test)/5\n",
    "    \n",
    "predictions = predictions[:,:1100:,:]"
   ]
  },
  {
   "cell_type": "code",
   "execution_count": 5,
   "metadata": {},
   "outputs": [
    {
     "data": {
      "text/plain": [
       "array([0.99823278, 0.99966702, 0.99986856, ..., 0.99996057, 0.99995205,\n",
       "       0.99993415])"
      ]
     },
     "execution_count": 5,
     "metadata": {},
     "output_type": "execute_result"
    }
   ],
   "source": [
    "predictions[0,:,0]"
   ]
  },
  {
   "cell_type": "code",
   "execution_count": 6,
   "metadata": {},
   "outputs": [],
   "source": [
    "def prepare_test(pred_test, df_test):\n",
    "    \n",
    "    wells = df_test['well_id'].sort_values().unique().tolist()\n",
    "    list_df_wells = [df_test.loc[df_test['well_id'].isin([w]), :].copy() for w in wells]\n",
    "    \n",
    "    for df in list_df_wells:\n",
    "        df.index = np.arange(df.shape[0])\n",
    "\n",
    "    for i, df_well in enumerate(list_df_wells):\n",
    "        df_well['label'] = np.argmax(pred_test[i, :], axis=1)\n",
    "\n",
    "    result = pd.concat(list_df_wells, axis=0)\n",
    "    return result\n"
   ]
  },
  {
   "cell_type": "code",
   "execution_count": 7,
   "metadata": {},
   "outputs": [],
   "source": [
    "submit = prepare_test(predictions, test)"
   ]
  },
  {
   "cell_type": "code",
   "execution_count": 8,
   "metadata": {},
   "outputs": [],
   "source": [
    "submit[['row_id', 'well_id', 'label']].to_csv('data/result/0.985_submit.csv', index=False)"
   ]
  }
 ],
 "metadata": {
  "kernelspec": {
   "display_name": "Python 3",
   "language": "python",
   "name": "python3"
  },
  "language_info": {
   "codemirror_mode": {
    "name": "ipython",
    "version": 3
   },
   "file_extension": ".py",
   "mimetype": "text/x-python",
   "name": "python",
   "nbconvert_exporter": "python",
   "pygments_lexer": "ipython3",
   "version": "3.6.7"
  }
 },
 "nbformat": 4,
 "nbformat_minor": 4
}
