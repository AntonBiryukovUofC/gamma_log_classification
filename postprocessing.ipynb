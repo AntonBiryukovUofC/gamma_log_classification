{
 "cells": [
  {
   "cell_type": "code",
   "execution_count": 1,
   "metadata": {},
   "outputs": [],
   "source": [
    "import pandas as pd\n",
    "\n",
    "df = pd.read_csv(\"./data/raw/train_cax.csv\")\n",
    "oof = pd.read_csv(\"./data/result/oof.csv\")\n",
    "\n",
    "dt = pd.read_csv(\"./data/raw/test_cax.csv\")\n",
    "ds = pd.read_csv(\"./data/result/LSTM_submit.csv\")\n",
    "\n",
    "dt[\"label\"] = list(ds[\"label\"])\n",
    "df[\"pred\"] = oof[\"pred_label\"]"
   ]
  },
  {
   "cell_type": "code",
   "execution_count": 2,
   "metadata": {},
   "outputs": [
    {
     "name": "stdout",
     "output_type": "stream",
     "text": [
      "0 1 \t 1860 174921 \t 0\n",
      "0 2 \t 1860 16100 \t 0\n",
      "0 3 \t 1860 155569 \t 0\n",
      "0 4 \t 1860 154186 \t 0\n",
      "1 2 \t 174921 16100 \t 0\n",
      "1 3 \t 174921 155569 \t 0\n",
      "1 4 \t 174921 154186 \t 0\n",
      "2 3 \t 16100 155569 \t 0\n",
      "2 4 \t 16100 154186 \t 0\n",
      "3 4 \t 155569 154186 \t 0\n"
     ]
    }
   ],
   "source": [
    "from math import floor\n",
    "\n",
    "df[\"leak\"] = df[\"GR\"]*100\n",
    "df[\"leak\"] = df[\"leak\"] - df[\"leak\"].apply(floor)\n",
    "df[\"leak\"] = df[\"leak\"].apply(lambda x: round(x, 11))\n",
    "\n",
    "for i in range(5):\n",
    "    for j in range(i+1,5):\n",
    "        a = set(df[df[\"label\"]==i][\"leak\"].value_counts().keys())\n",
    "        b = set(df[df[\"label\"]==j][\"leak\"].value_counts().keys())\n",
    "        print(i,j,\"\\t\",len(a),len(b),\"\\t\",len(a&b))"
   ]
  },
  {
   "cell_type": "code",
   "execution_count": 3,
   "metadata": {},
   "outputs": [
    {
     "name": "stdout",
     "output_type": "stream",
     "text": [
      "0 1 \t 2015 175370 \t 140\n",
      "0 2 \t 2015 16806 \t 7\n",
      "0 3 \t 2015 156135 \t 26\n",
      "0 4 \t 2015 154786 \t 38\n",
      "1 2 \t 175370 16806 \t 228\n",
      "1 3 \t 175370 156135 \t 555\n",
      "1 4 \t 175370 154786 \t 492\n",
      "2 3 \t 16806 156135 \t 337\n",
      "2 4 \t 16806 154786 \t 373\n",
      "3 4 \t 156135 154786 \t 398\n"
     ]
    },
    {
     "data": {
      "text/plain": [
       "2362"
      ]
     },
     "execution_count": 3,
     "metadata": {},
     "output_type": "execute_result"
    }
   ],
   "source": [
    "s = set()\n",
    "\n",
    "for i in range(5):\n",
    "    for j in range(i+1,5):\n",
    "        a = set(df[df[\"pred\"]==i][\"leak\"].value_counts().keys())\n",
    "        b = set(df[df[\"pred\"]==j][\"leak\"].value_counts().keys())\n",
    "        print(i,j,\"\\t\",len(a),len(b),\"\\t\",len(a&b))\n",
    "        s |= a&b\n",
    "        \n",
    "len(s)"
   ]
  },
  {
   "cell_type": "code",
   "execution_count": 4,
   "metadata": {},
   "outputs": [
    {
     "data": {
      "text/plain": [
       "0.9958161363636364"
      ]
     },
     "execution_count": 4,
     "metadata": {},
     "output_type": "execute_result"
    }
   ],
   "source": [
    "1-len(df[df[\"label\"]!=df[\"pred\"]])/len(df)"
   ]
  },
  {
   "cell_type": "code",
   "execution_count": 5,
   "metadata": {},
   "outputs": [
    {
     "data": {
      "application/vnd.jupyter.widget-view+json": {
       "model_id": "ddac0264702842fcb17a479679c23705",
       "version_major": 2,
       "version_minor": 0
      },
      "text/plain": [
       "HBox(children=(IntProgress(value=0, max=2362), HTML(value='')))"
      ]
     },
     "metadata": {},
     "output_type": "display_data"
    },
    {
     "name": "stdout",
     "output_type": "stream",
     "text": [
      "\n"
     ]
    }
   ],
   "source": [
    "from tqdm import tqdm_notebook as tqdm\n",
    "d = dict()\n",
    "for c in tqdm(list(s)):\n",
    "    k = df[df[\"leak\"]==c][\"pred\"].value_counts().keys()[0]\n",
    "    d[c] = k"
   ]
  },
  {
   "cell_type": "code",
   "execution_count": 6,
   "metadata": {},
   "outputs": [
    {
     "data": {
      "application/vnd.jupyter.widget-view+json": {
       "model_id": "bbae861eaefb42d5a8b7f9f1321d8a3d",
       "version_major": 2,
       "version_minor": 0
      },
      "text/plain": [
       "HBox(children=(IntProgress(value=0, max=4400000), HTML(value='')))"
      ]
     },
     "metadata": {},
     "output_type": "display_data"
    },
    {
     "name": "stdout",
     "output_type": "stream",
     "text": [
      "\n"
     ]
    }
   ],
   "source": [
    "res = []\n",
    "for k, v in tqdm(zip(df[\"leak\"], df[\"pred\"]), total=len(df)):\n",
    "    if k in d:\n",
    "        res.append(d[k])\n",
    "    else:\n",
    "        res.append(v)"
   ]
  },
  {
   "cell_type": "code",
   "execution_count": 7,
   "metadata": {},
   "outputs": [
    {
     "name": "stdout",
     "output_type": "stream",
     "text": [
      "0.9964427272727273\n"
     ]
    }
   ],
   "source": [
    "df[\"res\"] = res\n",
    "print(1-len(df[df[\"label\"]!=df[\"res\"]])/len(df))"
   ]
  },
  {
   "cell_type": "code",
   "execution_count": 8,
   "metadata": {},
   "outputs": [
    {
     "name": "stdout",
     "output_type": "stream",
     "text": [
      "0 1 \t 1947 89411 \t 89\n",
      "0 2 \t 1947 8463 \t 4\n",
      "0 3 \t 1947 77985 \t 19\n",
      "0 4 \t 1947 80268 \t 11\n",
      "1 2 \t 89411 8463 \t 94\n",
      "1 3 \t 89411 77985 \t 206\n",
      "1 4 \t 89411 80268 \t 200\n",
      "2 3 \t 8463 77985 \t 129\n",
      "2 4 \t 8463 80268 \t 136\n",
      "3 4 \t 77985 80268 \t 174\n"
     ]
    },
    {
     "data": {
      "text/plain": [
       "985"
      ]
     },
     "execution_count": 8,
     "metadata": {},
     "output_type": "execute_result"
    }
   ],
   "source": [
    "dt[\"leak\"] = dt[\"GR\"]*100\n",
    "dt[\"leak\"] = dt[\"leak\"] - dt[\"leak\"].apply(floor)\n",
    "dt[\"leak\"] = dt[\"leak\"].apply(lambda x: round(x, 11))\n",
    "\n",
    "ss = set()\n",
    "\n",
    "for i in range(5):\n",
    "    for j in range(i+1,5):\n",
    "        a = set(dt[dt[\"label\"]==i][\"leak\"].value_counts().keys())\n",
    "        b = set(dt[dt[\"label\"]==j][\"leak\"].value_counts().keys())\n",
    "        print(i,j,\"\\t\",len(a),len(b),\"\\t\",len(a&b))\n",
    "        ss |= a&b\n",
    "        \n",
    "len(ss)"
   ]
  },
  {
   "cell_type": "code",
   "execution_count": 9,
   "metadata": {},
   "outputs": [
    {
     "data": {
      "application/vnd.jupyter.widget-view+json": {
       "model_id": "ac840bfa2d75417a94e8a82f6ef42e7a",
       "version_major": 2,
       "version_minor": 0
      },
      "text/plain": [
       "HBox(children=(IntProgress(value=0, max=985), HTML(value='')))"
      ]
     },
     "metadata": {},
     "output_type": "display_data"
    },
    {
     "name": "stdout",
     "output_type": "stream",
     "text": [
      "\n"
     ]
    }
   ],
   "source": [
    "dd = dict()\n",
    "for c in tqdm(list(ss)):\n",
    "    k = dt[dt[\"leak\"]==c][\"label\"].value_counts().keys()[0]\n",
    "    dd[c] = k"
   ]
  },
  {
   "cell_type": "code",
   "execution_count": 10,
   "metadata": {},
   "outputs": [
    {
     "data": {
      "application/vnd.jupyter.widget-view+json": {
       "model_id": "30dfb9a05f224aafb8a16b9fc23341cc",
       "version_major": 2,
       "version_minor": 0
      },
      "text/plain": [
       "HBox(children=(IntProgress(value=0, max=2200000), HTML(value='')))"
      ]
     },
     "metadata": {},
     "output_type": "display_data"
    },
    {
     "name": "stdout",
     "output_type": "stream",
     "text": [
      "\n"
     ]
    }
   ],
   "source": [
    "res = []\n",
    "for k, v in tqdm(zip(dt[\"leak\"], dt[\"label\"]), total=len(dt)):\n",
    "    if k in dd:\n",
    "        res.append(dd[k])\n",
    "    else:\n",
    "        res.append(v)\n",
    "        \n",
    "dt[\"label\"] = res"
   ]
  },
  {
   "cell_type": "code",
   "execution_count": 11,
   "metadata": {},
   "outputs": [],
   "source": [
    "dt[[\"unique_id\",\"label\"]].to_csv(\"./data/result/processed.csv\", index=False)"
   ]
  },
  {
   "cell_type": "code",
   "execution_count": 12,
   "metadata": {},
   "outputs": [
    {
     "data": {
      "text/html": [
       "<div>\n",
       "<style scoped>\n",
       "    .dataframe tbody tr th:only-of-type {\n",
       "        vertical-align: middle;\n",
       "    }\n",
       "\n",
       "    .dataframe tbody tr th {\n",
       "        vertical-align: top;\n",
       "    }\n",
       "\n",
       "    .dataframe thead th {\n",
       "        text-align: right;\n",
       "    }\n",
       "</style>\n",
       "<table border=\"1\" class=\"dataframe\">\n",
       "  <thead>\n",
       "    <tr style=\"text-align: right;\">\n",
       "      <th></th>\n",
       "      <th>row_id</th>\n",
       "      <th>well_id</th>\n",
       "      <th>GR</th>\n",
       "      <th>label</th>\n",
       "      <th>pred</th>\n",
       "      <th>leak</th>\n",
       "      <th>res</th>\n",
       "    </tr>\n",
       "  </thead>\n",
       "  <tbody>\n",
       "    <tr>\n",
       "      <th>1823553</th>\n",
       "      <td>853</td>\n",
       "      <td>1657</td>\n",
       "      <td>114.424302</td>\n",
       "      <td>3</td>\n",
       "      <td>3</td>\n",
       "      <td>0.430158</td>\n",
       "      <td>3</td>\n",
       "    </tr>\n",
       "    <tr>\n",
       "      <th>1823554</th>\n",
       "      <td>854</td>\n",
       "      <td>1657</td>\n",
       "      <td>103.884302</td>\n",
       "      <td>3</td>\n",
       "      <td>3</td>\n",
       "      <td>0.430158</td>\n",
       "      <td>3</td>\n",
       "    </tr>\n",
       "    <tr>\n",
       "      <th>1823555</th>\n",
       "      <td>855</td>\n",
       "      <td>1657</td>\n",
       "      <td>107.584302</td>\n",
       "      <td>3</td>\n",
       "      <td>3</td>\n",
       "      <td>0.430158</td>\n",
       "      <td>3</td>\n",
       "    </tr>\n",
       "    <tr>\n",
       "      <th>1823556</th>\n",
       "      <td>856</td>\n",
       "      <td>1657</td>\n",
       "      <td>112.954302</td>\n",
       "      <td>3</td>\n",
       "      <td>3</td>\n",
       "      <td>0.430158</td>\n",
       "      <td>3</td>\n",
       "    </tr>\n",
       "    <tr>\n",
       "      <th>1823557</th>\n",
       "      <td>857</td>\n",
       "      <td>1657</td>\n",
       "      <td>91.124302</td>\n",
       "      <td>3</td>\n",
       "      <td>3</td>\n",
       "      <td>0.430158</td>\n",
       "      <td>3</td>\n",
       "    </tr>\n",
       "    <tr>\n",
       "      <th>1823558</th>\n",
       "      <td>858</td>\n",
       "      <td>1657</td>\n",
       "      <td>101.564302</td>\n",
       "      <td>3</td>\n",
       "      <td>3</td>\n",
       "      <td>0.430158</td>\n",
       "      <td>3</td>\n",
       "    </tr>\n",
       "    <tr>\n",
       "      <th>1823559</th>\n",
       "      <td>859</td>\n",
       "      <td>1657</td>\n",
       "      <td>97.904302</td>\n",
       "      <td>3</td>\n",
       "      <td>3</td>\n",
       "      <td>0.430158</td>\n",
       "      <td>3</td>\n",
       "    </tr>\n",
       "    <tr>\n",
       "      <th>1823560</th>\n",
       "      <td>860</td>\n",
       "      <td>1657</td>\n",
       "      <td>117.364302</td>\n",
       "      <td>3</td>\n",
       "      <td>3</td>\n",
       "      <td>0.430158</td>\n",
       "      <td>3</td>\n",
       "    </tr>\n",
       "    <tr>\n",
       "      <th>1823561</th>\n",
       "      <td>861</td>\n",
       "      <td>1657</td>\n",
       "      <td>121.554302</td>\n",
       "      <td>3</td>\n",
       "      <td>3</td>\n",
       "      <td>0.430158</td>\n",
       "      <td>3</td>\n",
       "    </tr>\n",
       "    <tr>\n",
       "      <th>1823562</th>\n",
       "      <td>862</td>\n",
       "      <td>1657</td>\n",
       "      <td>106.568972</td>\n",
       "      <td>1</td>\n",
       "      <td>3</td>\n",
       "      <td>0.897176</td>\n",
       "      <td>1</td>\n",
       "    </tr>\n",
       "    <tr>\n",
       "      <th>1823563</th>\n",
       "      <td>863</td>\n",
       "      <td>1657</td>\n",
       "      <td>96.730453</td>\n",
       "      <td>1</td>\n",
       "      <td>3</td>\n",
       "      <td>0.045324</td>\n",
       "      <td>3</td>\n",
       "    </tr>\n",
       "    <tr>\n",
       "      <th>1823564</th>\n",
       "      <td>864</td>\n",
       "      <td>1657</td>\n",
       "      <td>101.591935</td>\n",
       "      <td>1</td>\n",
       "      <td>1</td>\n",
       "      <td>0.193472</td>\n",
       "      <td>1</td>\n",
       "    </tr>\n",
       "    <tr>\n",
       "      <th>1823565</th>\n",
       "      <td>865</td>\n",
       "      <td>1657</td>\n",
       "      <td>105.923416</td>\n",
       "      <td>1</td>\n",
       "      <td>1</td>\n",
       "      <td>0.341621</td>\n",
       "      <td>1</td>\n",
       "    </tr>\n",
       "    <tr>\n",
       "      <th>1823566</th>\n",
       "      <td>866</td>\n",
       "      <td>1657</td>\n",
       "      <td>97.804898</td>\n",
       "      <td>1</td>\n",
       "      <td>1</td>\n",
       "      <td>0.489769</td>\n",
       "      <td>1</td>\n",
       "    </tr>\n",
       "    <tr>\n",
       "      <th>1823567</th>\n",
       "      <td>867</td>\n",
       "      <td>1657</td>\n",
       "      <td>94.186379</td>\n",
       "      <td>1</td>\n",
       "      <td>1</td>\n",
       "      <td>0.637917</td>\n",
       "      <td>1</td>\n",
       "    </tr>\n",
       "    <tr>\n",
       "      <th>1823568</th>\n",
       "      <td>868</td>\n",
       "      <td>1657</td>\n",
       "      <td>116.577861</td>\n",
       "      <td>1</td>\n",
       "      <td>1</td>\n",
       "      <td>0.786065</td>\n",
       "      <td>1</td>\n",
       "    </tr>\n",
       "    <tr>\n",
       "      <th>1823569</th>\n",
       "      <td>869</td>\n",
       "      <td>1657</td>\n",
       "      <td>90.899342</td>\n",
       "      <td>1</td>\n",
       "      <td>1</td>\n",
       "      <td>0.934213</td>\n",
       "      <td>1</td>\n",
       "    </tr>\n",
       "    <tr>\n",
       "      <th>1823570</th>\n",
       "      <td>870</td>\n",
       "      <td>1657</td>\n",
       "      <td>95.830824</td>\n",
       "      <td>1</td>\n",
       "      <td>1</td>\n",
       "      <td>0.082361</td>\n",
       "      <td>1</td>\n",
       "    </tr>\n",
       "    <tr>\n",
       "      <th>1823571</th>\n",
       "      <td>871</td>\n",
       "      <td>1657</td>\n",
       "      <td>85.652305</td>\n",
       "      <td>1</td>\n",
       "      <td>1</td>\n",
       "      <td>0.230509</td>\n",
       "      <td>1</td>\n",
       "    </tr>\n",
       "    <tr>\n",
       "      <th>1823572</th>\n",
       "      <td>872</td>\n",
       "      <td>1657</td>\n",
       "      <td>80.813787</td>\n",
       "      <td>1</td>\n",
       "      <td>1</td>\n",
       "      <td>0.378658</td>\n",
       "      <td>1</td>\n",
       "    </tr>\n",
       "  </tbody>\n",
       "</table>\n",
       "</div>"
      ],
      "text/plain": [
       "         row_id  well_id          GR  label  pred      leak  res\n",
       "1823553     853     1657  114.424302      3     3  0.430158    3\n",
       "1823554     854     1657  103.884302      3     3  0.430158    3\n",
       "1823555     855     1657  107.584302      3     3  0.430158    3\n",
       "1823556     856     1657  112.954302      3     3  0.430158    3\n",
       "1823557     857     1657   91.124302      3     3  0.430158    3\n",
       "1823558     858     1657  101.564302      3     3  0.430158    3\n",
       "1823559     859     1657   97.904302      3     3  0.430158    3\n",
       "1823560     860     1657  117.364302      3     3  0.430158    3\n",
       "1823561     861     1657  121.554302      3     3  0.430158    3\n",
       "1823562     862     1657  106.568972      1     3  0.897176    1\n",
       "1823563     863     1657   96.730453      1     3  0.045324    3\n",
       "1823564     864     1657  101.591935      1     1  0.193472    1\n",
       "1823565     865     1657  105.923416      1     1  0.341621    1\n",
       "1823566     866     1657   97.804898      1     1  0.489769    1\n",
       "1823567     867     1657   94.186379      1     1  0.637917    1\n",
       "1823568     868     1657  116.577861      1     1  0.786065    1\n",
       "1823569     869     1657   90.899342      1     1  0.934213    1\n",
       "1823570     870     1657   95.830824      1     1  0.082361    1\n",
       "1823571     871     1657   85.652305      1     1  0.230509    1\n",
       "1823572     872     1657   80.813787      1     1  0.378658    1"
      ]
     },
     "execution_count": 12,
     "metadata": {},
     "output_type": "execute_result"
    }
   ],
   "source": [
    "from random import choice\n",
    "\n",
    "idx = df[df[\"label\"]!=df[\"res\"]].index\n",
    "k = choice(list(idx))\n",
    "\n",
    "df.iloc[k-10:k+10,:]"
   ]
  }
 ],
 "metadata": {
  "kernelspec": {
   "display_name": "Python 3",
   "language": "python",
   "name": "python3"
  },
  "language_info": {
   "codemirror_mode": {
    "name": "ipython",
    "version": 3
   },
   "file_extension": ".py",
   "mimetype": "text/x-python",
   "name": "python",
   "nbconvert_exporter": "python",
   "pygments_lexer": "ipython3",
   "version": "3.7.3"
  }
 },
 "nbformat": 4,
 "nbformat_minor": 2
}
