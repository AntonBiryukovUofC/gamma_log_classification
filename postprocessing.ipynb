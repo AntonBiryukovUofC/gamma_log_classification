{
 "cells": [
  {
   "cell_type": "code",
   "execution_count": 1,
   "metadata": {},
   "outputs": [],
   "source": [
    "import pandas as pd\n",
    "\n",
    "df = pd.read_csv(\"./data/raw/train_cax.csv\")\n",
    "oof = pd.read_csv(\"./data/result/oof.csv\")\n",
    "\n",
    "dt = pd.read_csv(\"./data/raw/test_cax.csv\")\n",
    "ds = pd.read_csv(\"./data/result/LSTM_submit.csv\")\n",
    "\n",
    "dt[\"label\"] = list(ds[\"label\"])\n",
    "df[\"pred\"] = oof[\"pred_label\"]"
   ]
  },
  {
   "cell_type": "code",
   "execution_count": 14,
   "metadata": {},
   "outputs": [
    {
     "name": "stdout",
     "output_type": "stream",
     "text": [
      "0 1 \t 1860 174921 \t 0\n",
      "0 2 \t 1860 16100 \t 0\n",
      "0 3 \t 1860 155569 \t 0\n",
      "0 4 \t 1860 154186 \t 0\n",
      "1 2 \t 174921 16100 \t 0\n",
      "1 3 \t 174921 155569 \t 0\n",
      "1 4 \t 174921 154186 \t 0\n",
      "2 3 \t 16100 155569 \t 0\n",
      "2 4 \t 16100 154186 \t 0\n",
      "3 4 \t 155569 154186 \t 0\n"
     ]
    }
   ],
   "source": [
    "from math import floor\n",
    "\n",
    "df[\"leak\"] = df[\"GR\"]*100\n",
    "df[\"leak\"] = df[\"leak\"] - df[\"leak\"].apply(floor)\n",
    "df[\"leak\"] = df[\"leak\"].apply(lambda x: round(x, 11))\n",
    "\n",
    "for i in range(5):\n",
    "    for j in range(i+1,5):\n",
    "        a = set(df[df[\"label\"]==i][\"leak\"].value_counts().keys())\n",
    "        b = set(df[df[\"label\"]==j][\"leak\"].value_counts().keys())\n",
    "        print(i,j,\"\\t\",len(a),len(b),\"\\t\",len(a&b))"
   ]
  },
  {
   "cell_type": "code",
   "execution_count": null,
   "metadata": {},
   "outputs": [],
   "source": []
  },
  {
   "cell_type": "code",
   "execution_count": 3,
   "metadata": {},
   "outputs": [],
   "source": [
    "# 0 1 \t 5394 267200 \t 0\n",
    "# 0 2 \t 5394 52786 \t 0\n",
    "# 0 3 \t 5394 218501 \t 0\n",
    "# 0 4 \t 5394 218044 \t 0\n",
    "# 1 2 \t 267200 52786 \t 0\n",
    "# 1 3 \t 267200 218501 \t 0\n",
    "# 1 4 \t 267200 218044 \t 0\n",
    "# 2 3 \t 52786 218501 \t 0\n",
    "# 2 4 \t 52786 218044 \t 0\n",
    "# 3 4 \t 218501 218044 \t 0"
   ]
  },
  {
   "cell_type": "code",
   "execution_count": 4,
   "metadata": {},
   "outputs": [
    {
     "name": "stdout",
     "output_type": "stream",
     "text": [
      "0 1 \t 1860 174921 \t 0\n",
      "0 2 \t 1860 16100 \t 0\n",
      "0 3 \t 1860 155569 \t 0\n",
      "0 4 \t 1860 154186 \t 0\n",
      "1 2 \t 174921 16100 \t 0\n",
      "1 3 \t 174921 155569 \t 0\n",
      "1 4 \t 174921 154186 \t 0\n",
      "2 3 \t 16100 155569 \t 0\n",
      "2 4 \t 16100 154186 \t 0\n",
      "3 4 \t 155569 154186 \t 0\n"
     ]
    },
    {
     "data": {
      "text/plain": [
       "0"
      ]
     },
     "execution_count": 4,
     "metadata": {},
     "output_type": "execute_result"
    }
   ],
   "source": [
    "s = set()\n",
    "\n",
    "for i in range(5):\n",
    "    for j in range(i+1,5):\n",
    "        a = set(df[df[\"pred\"]==i][\"leak\"].value_counts().keys())\n",
    "        b = set(df[df[\"pred\"]==j][\"leak\"].value_counts().keys())\n",
    "        print(i,j,\"\\t\",len(a),len(b),\"\\t\",len(a&b))\n",
    "        s |= a&b\n",
    "        \n",
    "len(s)"
   ]
  },
  {
   "cell_type": "code",
   "execution_count": 5,
   "metadata": {},
   "outputs": [
    {
     "data": {
      "text/plain": [
       "1.0"
      ]
     },
     "execution_count": 5,
     "metadata": {},
     "output_type": "execute_result"
    }
   ],
   "source": [
    "1-len(df[df[\"label\"]!=df[\"pred\"]])/len(df)"
   ]
  },
  {
   "cell_type": "code",
   "execution_count": 6,
   "metadata": {},
   "outputs": [
    {
     "data": {
      "application/vnd.jupyter.widget-view+json": {
       "model_id": "15a47cc0683944ef8a1ebe45eaf184b5",
       "version_major": 2,
       "version_minor": 0
      },
      "text/plain": [
       "HBox(children=(IntProgress(value=1, bar_style='info', max=1), HTML(value='')))"
      ]
     },
     "metadata": {},
     "output_type": "display_data"
    },
    {
     "name": "stdout",
     "output_type": "stream",
     "text": [
      "\n"
     ]
    }
   ],
   "source": [
    "from tqdm import tqdm_notebook as tqdm\n",
    "d = dict()\n",
    "for c in tqdm(list(s)):\n",
    "    k = df[df[\"leak\"]==c][\"pred\"].value_counts().keys()[0]\n",
    "    d[c] = k"
   ]
  },
  {
   "cell_type": "code",
   "execution_count": 7,
   "metadata": {},
   "outputs": [
    {
     "data": {
      "application/vnd.jupyter.widget-view+json": {
       "model_id": "ed4fa3a98391481aaf7bda0530638484",
       "version_major": 2,
       "version_minor": 0
      },
      "text/plain": [
       "HBox(children=(IntProgress(value=0, max=4400000), HTML(value='')))"
      ]
     },
     "metadata": {},
     "output_type": "display_data"
    },
    {
     "name": "stdout",
     "output_type": "stream",
     "text": [
      "\n"
     ]
    }
   ],
   "source": [
    "res = []\n",
    "for k, v in tqdm(zip(df[\"leak\"], df[\"pred\"]), total=len(df)):\n",
    "    if k in d:\n",
    "        res.append(d[k])\n",
    "    else:\n",
    "        res.append(v)"
   ]
  },
  {
   "cell_type": "code",
   "execution_count": 8,
   "metadata": {},
   "outputs": [
    {
     "name": "stdout",
     "output_type": "stream",
     "text": [
      "1.0\n"
     ]
    }
   ],
   "source": [
    "df[\"res\"] = res\n",
    "print(1-len(df[df[\"label\"]!=df[\"res\"]])/len(df))"
   ]
  },
  {
   "cell_type": "code",
   "execution_count": 9,
   "metadata": {},
   "outputs": [
    {
     "name": "stdout",
     "output_type": "stream",
     "text": [
      "0 1 \t 2805 89233 \t 477\n",
      "0 2 \t 2805 8488 \t 15\n",
      "0 3 \t 2805 77899 \t 220\n",
      "0 4 \t 2805 80403 \t 292\n",
      "1 2 \t 89233 8488 \t 97\n",
      "1 3 \t 89233 77899 \t 191\n",
      "1 4 \t 89233 80403 \t 196\n",
      "2 3 \t 8488 77899 \t 130\n",
      "2 4 \t 8488 80403 \t 127\n",
      "3 4 \t 77899 80403 \t 189\n"
     ]
    },
    {
     "data": {
      "text/plain": [
       "1624"
      ]
     },
     "execution_count": 9,
     "metadata": {},
     "output_type": "execute_result"
    }
   ],
   "source": [
    "dt[\"leak\"] = dt[\"GR\"]*100\n",
    "dt[\"leak\"] = dt[\"leak\"] - dt[\"leak\"].apply(floor)\n",
    "dt[\"leak\"] = dt[\"leak\"].apply(lambda x: round(x, 11))\n",
    "\n",
    "ss = set()\n",
    "\n",
    "for i in range(5):\n",
    "    for j in range(i+1,5):\n",
    "        a = set(dt[dt[\"label\"]==i][\"leak\"].value_counts().keys())\n",
    "        b = set(dt[dt[\"label\"]==j][\"leak\"].value_counts().keys())\n",
    "        print(i,j,\"\\t\",len(a),len(b),\"\\t\",len(a&b))\n",
    "        ss |= a&b\n",
    "        \n",
    "len(ss)"
   ]
  },
  {
   "cell_type": "code",
   "execution_count": 10,
   "metadata": {},
   "outputs": [
    {
     "data": {
      "application/vnd.jupyter.widget-view+json": {
       "model_id": "aea96a77b9954104b1bfd51262e39e8b",
       "version_major": 2,
       "version_minor": 0
      },
      "text/plain": [
       "HBox(children=(IntProgress(value=0, max=1624), HTML(value='')))"
      ]
     },
     "metadata": {},
     "output_type": "display_data"
    },
    {
     "name": "stdout",
     "output_type": "stream",
     "text": [
      "\n"
     ]
    }
   ],
   "source": [
    "dd = dict()\n",
    "for c in tqdm(list(ss)):\n",
    "    k = dt[dt[\"leak\"]==c][\"label\"].value_counts().keys()[0]\n",
    "    dd[c] = k"
   ]
  },
  {
   "cell_type": "code",
   "execution_count": 11,
   "metadata": {},
   "outputs": [
    {
     "data": {
      "application/vnd.jupyter.widget-view+json": {
       "model_id": "cf7d4a6e5abb4f0aa05d80f3dc64d001",
       "version_major": 2,
       "version_minor": 0
      },
      "text/plain": [
       "HBox(children=(IntProgress(value=0, max=2200000), HTML(value='')))"
      ]
     },
     "metadata": {},
     "output_type": "display_data"
    },
    {
     "name": "stdout",
     "output_type": "stream",
     "text": [
      "\n"
     ]
    }
   ],
   "source": [
    "res = []\n",
    "for k, v in tqdm(zip(dt[\"leak\"], dt[\"label\"]), total=len(dt)):\n",
    "    if k in dd:\n",
    "        res.append(dd[k])\n",
    "    else:\n",
    "        res.append(v)\n",
    "        \n",
    "dt[\"label\"] = res"
   ]
  },
  {
   "cell_type": "code",
   "execution_count": 12,
   "metadata": {},
   "outputs": [],
   "source": [
    "dt[[\"unique_id\",\"label\"]].to_csv(\"./data/result/processed.csv\", index=False)"
   ]
  }
 ],
 "metadata": {
  "kernelspec": {
   "display_name": "Python 3",
   "language": "python",
   "name": "python3"
  },
  "language_info": {
   "codemirror_mode": {
    "name": "ipython",
    "version": 3
   },
   "file_extension": ".py",
   "mimetype": "text/x-python",
   "name": "python",
   "nbconvert_exporter": "python",
   "pygments_lexer": "ipython3",
   "version": "3.7.3"
  }
 },
 "nbformat": 4,
 "nbformat_minor": 2
}
