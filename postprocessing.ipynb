{
 "cells": [
  {
   "cell_type": "code",
   "execution_count": 1,
   "metadata": {},
   "outputs": [],
   "source": [
    "import pandas as pd\n",
    "\n",
    "df = pd.read_csv(\"./data/raw/train_cax.csv\")\n",
    "oof = pd.read_csv(\"./data/result/oof.csv\")\n",
    "\n",
    "dt = pd.read_csv(\"./data/raw/test_cax.csv\")\n",
    "ds = pd.read_csv(\"./data/result/LSTM_submit.csv\")\n",
    "\n",
    "dt[\"label\"] = list(ds[\"label\"])\n",
    "df[\"pred\"] = oof[\"pred_label\"]"
   ]
  },
  {
   "cell_type": "code",
   "execution_count": 2,
   "metadata": {},
   "outputs": [
    {
     "name": "stdout",
     "output_type": "stream",
     "text": [
      "0 1 \t 1860 174921 \t 0\n",
      "0 2 \t 1860 16100 \t 0\n",
      "0 3 \t 1860 155569 \t 0\n",
      "0 4 \t 1860 154186 \t 0\n",
      "1 2 \t 174921 16100 \t 0\n",
      "1 3 \t 174921 155569 \t 0\n",
      "1 4 \t 174921 154186 \t 0\n",
      "2 3 \t 16100 155569 \t 0\n",
      "2 4 \t 16100 154186 \t 0\n",
      "3 4 \t 155569 154186 \t 0\n"
     ]
    }
   ],
   "source": [
    "from math import floor\n",
    "\n",
    "df[\"leak\"] = df[\"GR\"]*100\n",
    "df[\"leak\"] = df[\"leak\"] - df[\"leak\"].apply(floor)\n",
    "df[\"leak\"] = df[\"leak\"].apply(lambda x: round(x, 11))\n",
    "\n",
    "for i in range(5):\n",
    "    for j in range(i+1,5):\n",
    "        a = set(df[df[\"label\"]==i][\"leak\"].value_counts().keys())\n",
    "        b = set(df[df[\"label\"]==j][\"leak\"].value_counts().keys())\n",
    "        print(i,j,\"\\t\",len(a),len(b),\"\\t\",len(a&b))"
   ]
  },
  {
   "cell_type": "code",
   "execution_count": 3,
   "metadata": {},
   "outputs": [
    {
     "name": "stdout",
     "output_type": "stream",
     "text": [
      "0 1 \t 1984 175178 \t 99\n",
      "0 2 \t 1984 16654 \t 6\n",
      "0 3 \t 1984 155940 \t 13\n",
      "0 4 \t 1984 154706 \t 25\n",
      "1 2 \t 175178 16654 \t 158\n",
      "1 3 \t 175178 155940 \t 385\n",
      "1 4 \t 175178 154706 \t 374\n",
      "2 3 \t 16654 155940 \t 242\n",
      "2 4 \t 16654 154706 \t 273\n",
      "3 4 \t 155940 154706 \t 302\n"
     ]
    },
    {
     "data": {
      "text/plain": [
       "1775"
      ]
     },
     "execution_count": 3,
     "metadata": {},
     "output_type": "execute_result"
    }
   ],
   "source": [
    "s = set()\n",
    "\n",
    "for i in range(5):\n",
    "    for j in range(i+1,5):\n",
    "        a = set(df[df[\"pred\"]==i][\"leak\"].value_counts().keys())\n",
    "        b = set(df[df[\"pred\"]==j][\"leak\"].value_counts().keys())\n",
    "        print(i,j,\"\\t\",len(a),len(b),\"\\t\",len(a&b))\n",
    "        s |= a&b\n",
    "        \n",
    "len(s)"
   ]
  },
  {
   "cell_type": "code",
   "execution_count": 4,
   "metadata": {},
   "outputs": [
    {
     "data": {
      "text/plain": [
       "0.9962956818181818"
      ]
     },
     "execution_count": 4,
     "metadata": {},
     "output_type": "execute_result"
    }
   ],
   "source": [
    "1-len(df[df[\"label\"]!=df[\"pred\"]])/len(df)"
   ]
  },
  {
   "cell_type": "code",
   "execution_count": 5,
   "metadata": {},
   "outputs": [
    {
     "data": {
      "application/vnd.jupyter.widget-view+json": {
       "model_id": "e2c91469c95d49e7bfde1d6ca4f40644",
       "version_major": 2,
       "version_minor": 0
      },
      "text/plain": [
       "HBox(children=(IntProgress(value=0, max=1775), HTML(value='')))"
      ]
     },
     "metadata": {},
     "output_type": "display_data"
    },
    {
     "name": "stdout",
     "output_type": "stream",
     "text": [
      "\n"
     ]
    }
   ],
   "source": [
    "from tqdm import tqdm_notebook as tqdm\n",
    "d = dict()\n",
    "for c in tqdm(list(s)):\n",
    "    k = df[df[\"leak\"]==c][\"pred\"].value_counts().keys()[0]\n",
    "    d[c] = k"
   ]
  },
  {
   "cell_type": "code",
   "execution_count": 6,
   "metadata": {},
   "outputs": [
    {
     "data": {
      "application/vnd.jupyter.widget-view+json": {
       "model_id": "ed0727d25da14292a78e6dd01f8be7e5",
       "version_major": 2,
       "version_minor": 0
      },
      "text/plain": [
       "HBox(children=(IntProgress(value=0, max=4400000), HTML(value='')))"
      ]
     },
     "metadata": {},
     "output_type": "display_data"
    },
    {
     "name": "stdout",
     "output_type": "stream",
     "text": [
      "\n"
     ]
    }
   ],
   "source": [
    "res = []\n",
    "for k, v in tqdm(zip(df[\"leak\"], df[\"pred\"]), total=len(df)):\n",
    "    if k in d:\n",
    "        res.append(d[k])\n",
    "    else:\n",
    "        res.append(v)"
   ]
  },
  {
   "cell_type": "code",
   "execution_count": 7,
   "metadata": {},
   "outputs": [
    {
     "name": "stdout",
     "output_type": "stream",
     "text": [
      "0.9967902272727273\n"
     ]
    }
   ],
   "source": [
    "df[\"res\"] = res\n",
    "print(1-len(df[df[\"label\"]!=df[\"res\"]])/len(df))"
   ]
  },
  {
   "cell_type": "code",
   "execution_count": 8,
   "metadata": {},
   "outputs": [
    {
     "name": "stdout",
     "output_type": "stream",
     "text": [
      "0 1 \t 1941 89315 \t 69\n",
      "0 2 \t 1941 8425 \t 4\n",
      "0 3 \t 1941 77969 \t 10\n",
      "0 4 \t 1941 80258 \t 6\n",
      "1 2 \t 89315 8425 \t 86\n",
      "1 3 \t 89315 77969 \t 181\n",
      "1 4 \t 89315 80258 \t 167\n",
      "2 3 \t 8425 77969 \t 108\n",
      "2 4 \t 8425 80258 \t 117\n",
      "3 4 \t 77969 80258 \t 139\n"
     ]
    },
    {
     "data": {
      "text/plain": [
       "828"
      ]
     },
     "execution_count": 8,
     "metadata": {},
     "output_type": "execute_result"
    }
   ],
   "source": [
    "dt[\"leak\"] = dt[\"GR\"]*100\n",
    "dt[\"leak\"] = dt[\"leak\"] - dt[\"leak\"].apply(floor)\n",
    "dt[\"leak\"] = dt[\"leak\"].apply(lambda x: round(x, 11))\n",
    "\n",
    "ss = set()\n",
    "\n",
    "for i in range(5):\n",
    "    for j in range(i+1,5):\n",
    "        a = set(dt[dt[\"label\"]==i][\"leak\"].value_counts().keys())\n",
    "        b = set(dt[dt[\"label\"]==j][\"leak\"].value_counts().keys())\n",
    "        print(i,j,\"\\t\",len(a),len(b),\"\\t\",len(a&b))\n",
    "        ss |= a&b\n",
    "        \n",
    "len(ss)"
   ]
  },
  {
   "cell_type": "code",
   "execution_count": 9,
   "metadata": {},
   "outputs": [
    {
     "data": {
      "application/vnd.jupyter.widget-view+json": {
       "model_id": "12abc19fcbd54cbeb33222ee8a99d90c",
       "version_major": 2,
       "version_minor": 0
      },
      "text/plain": [
       "HBox(children=(IntProgress(value=0, max=828), HTML(value='')))"
      ]
     },
     "metadata": {},
     "output_type": "display_data"
    },
    {
     "name": "stdout",
     "output_type": "stream",
     "text": [
      "\n"
     ]
    }
   ],
   "source": [
    "dd = dict()\n",
    "for c in tqdm(list(ss)):\n",
    "    k = dt[dt[\"leak\"]==c][\"label\"].value_counts().keys()[0]\n",
    "    dd[c] = k"
   ]
  },
  {
   "cell_type": "code",
   "execution_count": 10,
   "metadata": {},
   "outputs": [
    {
     "data": {
      "application/vnd.jupyter.widget-view+json": {
       "model_id": "bb5b2a81972b41c18bab06d25fbec564",
       "version_major": 2,
       "version_minor": 0
      },
      "text/plain": [
       "HBox(children=(IntProgress(value=0, max=2200000), HTML(value='')))"
      ]
     },
     "metadata": {},
     "output_type": "display_data"
    },
    {
     "name": "stdout",
     "output_type": "stream",
     "text": [
      "\n"
     ]
    }
   ],
   "source": [
    "res = []\n",
    "for k, v in tqdm(zip(dt[\"leak\"], dt[\"label\"]), total=len(dt)):\n",
    "    if k in dd:\n",
    "        res.append(dd[k])\n",
    "    else:\n",
    "        res.append(v)\n",
    "        \n",
    "dt[\"label\"] = res"
   ]
  },
  {
   "cell_type": "code",
   "execution_count": 11,
   "metadata": {},
   "outputs": [],
   "source": [
    "dt[[\"unique_id\",\"label\"]].to_csv(\"./data/result/processed.csv\", index=False)"
   ]
  },
  {
   "cell_type": "code",
   "execution_count": 12,
   "metadata": {},
   "outputs": [
    {
     "data": {
      "text/html": [
       "<div>\n",
       "<style scoped>\n",
       "    .dataframe tbody tr th:only-of-type {\n",
       "        vertical-align: middle;\n",
       "    }\n",
       "\n",
       "    .dataframe tbody tr th {\n",
       "        vertical-align: top;\n",
       "    }\n",
       "\n",
       "    .dataframe thead th {\n",
       "        text-align: right;\n",
       "    }\n",
       "</style>\n",
       "<table border=\"1\" class=\"dataframe\">\n",
       "  <thead>\n",
       "    <tr style=\"text-align: right;\">\n",
       "      <th></th>\n",
       "      <th>row_id</th>\n",
       "      <th>well_id</th>\n",
       "      <th>GR</th>\n",
       "      <th>label</th>\n",
       "      <th>pred</th>\n",
       "      <th>leak</th>\n",
       "      <th>res</th>\n",
       "    </tr>\n",
       "  </thead>\n",
       "  <tbody>\n",
       "    <tr>\n",
       "      <th>951256</th>\n",
       "      <td>856</td>\n",
       "      <td>864</td>\n",
       "      <td>65.142939</td>\n",
       "      <td>2</td>\n",
       "      <td>2</td>\n",
       "      <td>0.293899</td>\n",
       "      <td>2</td>\n",
       "    </tr>\n",
       "    <tr>\n",
       "      <th>951257</th>\n",
       "      <td>857</td>\n",
       "      <td>864</td>\n",
       "      <td>54.262939</td>\n",
       "      <td>2</td>\n",
       "      <td>2</td>\n",
       "      <td>0.293899</td>\n",
       "      <td>2</td>\n",
       "    </tr>\n",
       "    <tr>\n",
       "      <th>951258</th>\n",
       "      <td>858</td>\n",
       "      <td>864</td>\n",
       "      <td>65.772939</td>\n",
       "      <td>2</td>\n",
       "      <td>2</td>\n",
       "      <td>0.293899</td>\n",
       "      <td>2</td>\n",
       "    </tr>\n",
       "    <tr>\n",
       "      <th>951259</th>\n",
       "      <td>859</td>\n",
       "      <td>864</td>\n",
       "      <td>44.322939</td>\n",
       "      <td>2</td>\n",
       "      <td>2</td>\n",
       "      <td>0.293899</td>\n",
       "      <td>2</td>\n",
       "    </tr>\n",
       "    <tr>\n",
       "      <th>951260</th>\n",
       "      <td>860</td>\n",
       "      <td>864</td>\n",
       "      <td>86.052939</td>\n",
       "      <td>2</td>\n",
       "      <td>2</td>\n",
       "      <td>0.293899</td>\n",
       "      <td>2</td>\n",
       "    </tr>\n",
       "    <tr>\n",
       "      <th>951261</th>\n",
       "      <td>861</td>\n",
       "      <td>864</td>\n",
       "      <td>64.412939</td>\n",
       "      <td>2</td>\n",
       "      <td>2</td>\n",
       "      <td>0.293899</td>\n",
       "      <td>2</td>\n",
       "    </tr>\n",
       "    <tr>\n",
       "      <th>951262</th>\n",
       "      <td>862</td>\n",
       "      <td>864</td>\n",
       "      <td>67.052939</td>\n",
       "      <td>2</td>\n",
       "      <td>2</td>\n",
       "      <td>0.293899</td>\n",
       "      <td>2</td>\n",
       "    </tr>\n",
       "    <tr>\n",
       "      <th>951263</th>\n",
       "      <td>863</td>\n",
       "      <td>864</td>\n",
       "      <td>78.582939</td>\n",
       "      <td>2</td>\n",
       "      <td>2</td>\n",
       "      <td>0.293899</td>\n",
       "      <td>2</td>\n",
       "    </tr>\n",
       "    <tr>\n",
       "      <th>951264</th>\n",
       "      <td>864</td>\n",
       "      <td>864</td>\n",
       "      <td>52.572939</td>\n",
       "      <td>2</td>\n",
       "      <td>2</td>\n",
       "      <td>0.293899</td>\n",
       "      <td>2</td>\n",
       "    </tr>\n",
       "    <tr>\n",
       "      <th>951265</th>\n",
       "      <td>865</td>\n",
       "      <td>864</td>\n",
       "      <td>102.116431</td>\n",
       "      <td>1</td>\n",
       "      <td>3</td>\n",
       "      <td>0.643093</td>\n",
       "      <td>3</td>\n",
       "    </tr>\n",
       "    <tr>\n",
       "      <th>951266</th>\n",
       "      <td>866</td>\n",
       "      <td>864</td>\n",
       "      <td>112.746431</td>\n",
       "      <td>1</td>\n",
       "      <td>3</td>\n",
       "      <td>0.643093</td>\n",
       "      <td>3</td>\n",
       "    </tr>\n",
       "    <tr>\n",
       "      <th>951267</th>\n",
       "      <td>867</td>\n",
       "      <td>864</td>\n",
       "      <td>108.306431</td>\n",
       "      <td>1</td>\n",
       "      <td>3</td>\n",
       "      <td>0.643093</td>\n",
       "      <td>3</td>\n",
       "    </tr>\n",
       "    <tr>\n",
       "      <th>951268</th>\n",
       "      <td>868</td>\n",
       "      <td>864</td>\n",
       "      <td>125.406943</td>\n",
       "      <td>0</td>\n",
       "      <td>0</td>\n",
       "      <td>0.694268</td>\n",
       "      <td>0</td>\n",
       "    </tr>\n",
       "    <tr>\n",
       "      <th>951269</th>\n",
       "      <td>869</td>\n",
       "      <td>864</td>\n",
       "      <td>132.581501</td>\n",
       "      <td>0</td>\n",
       "      <td>0</td>\n",
       "      <td>0.150136</td>\n",
       "      <td>0</td>\n",
       "    </tr>\n",
       "    <tr>\n",
       "      <th>951270</th>\n",
       "      <td>870</td>\n",
       "      <td>864</td>\n",
       "      <td>132.536060</td>\n",
       "      <td>0</td>\n",
       "      <td>0</td>\n",
       "      <td>0.606005</td>\n",
       "      <td>0</td>\n",
       "    </tr>\n",
       "    <tr>\n",
       "      <th>951271</th>\n",
       "      <td>871</td>\n",
       "      <td>864</td>\n",
       "      <td>124.930619</td>\n",
       "      <td>0</td>\n",
       "      <td>0</td>\n",
       "      <td>0.061874</td>\n",
       "      <td>0</td>\n",
       "    </tr>\n",
       "    <tr>\n",
       "      <th>951272</th>\n",
       "      <td>872</td>\n",
       "      <td>864</td>\n",
       "      <td>145.545177</td>\n",
       "      <td>0</td>\n",
       "      <td>0</td>\n",
       "      <td>0.517743</td>\n",
       "      <td>0</td>\n",
       "    </tr>\n",
       "    <tr>\n",
       "      <th>951273</th>\n",
       "      <td>873</td>\n",
       "      <td>864</td>\n",
       "      <td>128.259736</td>\n",
       "      <td>0</td>\n",
       "      <td>0</td>\n",
       "      <td>0.973612</td>\n",
       "      <td>0</td>\n",
       "    </tr>\n",
       "    <tr>\n",
       "      <th>951274</th>\n",
       "      <td>874</td>\n",
       "      <td>864</td>\n",
       "      <td>133.454295</td>\n",
       "      <td>0</td>\n",
       "      <td>0</td>\n",
       "      <td>0.429481</td>\n",
       "      <td>0</td>\n",
       "    </tr>\n",
       "    <tr>\n",
       "      <th>951275</th>\n",
       "      <td>875</td>\n",
       "      <td>864</td>\n",
       "      <td>130.808854</td>\n",
       "      <td>0</td>\n",
       "      <td>0</td>\n",
       "      <td>0.885350</td>\n",
       "      <td>0</td>\n",
       "    </tr>\n",
       "  </tbody>\n",
       "</table>\n",
       "</div>"
      ],
      "text/plain": [
       "        row_id  well_id          GR  label  pred      leak  res\n",
       "951256     856      864   65.142939      2     2  0.293899    2\n",
       "951257     857      864   54.262939      2     2  0.293899    2\n",
       "951258     858      864   65.772939      2     2  0.293899    2\n",
       "951259     859      864   44.322939      2     2  0.293899    2\n",
       "951260     860      864   86.052939      2     2  0.293899    2\n",
       "951261     861      864   64.412939      2     2  0.293899    2\n",
       "951262     862      864   67.052939      2     2  0.293899    2\n",
       "951263     863      864   78.582939      2     2  0.293899    2\n",
       "951264     864      864   52.572939      2     2  0.293899    2\n",
       "951265     865      864  102.116431      1     3  0.643093    3\n",
       "951266     866      864  112.746431      1     3  0.643093    3\n",
       "951267     867      864  108.306431      1     3  0.643093    3\n",
       "951268     868      864  125.406943      0     0  0.694268    0\n",
       "951269     869      864  132.581501      0     0  0.150136    0\n",
       "951270     870      864  132.536060      0     0  0.606005    0\n",
       "951271     871      864  124.930619      0     0  0.061874    0\n",
       "951272     872      864  145.545177      0     0  0.517743    0\n",
       "951273     873      864  128.259736      0     0  0.973612    0\n",
       "951274     874      864  133.454295      0     0  0.429481    0\n",
       "951275     875      864  130.808854      0     0  0.885350    0"
      ]
     },
     "execution_count": 12,
     "metadata": {},
     "output_type": "execute_result"
    }
   ],
   "source": [
    "from random import choice\n",
    "\n",
    "idx = df[df[\"label\"]!=df[\"res\"]].index\n",
    "k = choice(list(idx))\n",
    "\n",
    "df.iloc[k-10:k+10,:]"
   ]
  }
 ],
 "metadata": {
  "kernelspec": {
   "display_name": "Python 3",
   "language": "python",
   "name": "python3"
  },
  "language_info": {
   "codemirror_mode": {
    "name": "ipython",
    "version": 3
   },
   "file_extension": ".py",
   "mimetype": "text/x-python",
   "name": "python",
   "nbconvert_exporter": "python",
   "pygments_lexer": "ipython3",
   "version": "3.7.3"
  }
 },
 "nbformat": 4,
 "nbformat_minor": 2
}
