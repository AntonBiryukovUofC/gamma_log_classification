{
 "cells": [
  {
   "cell_type": "code",
   "execution_count": 1,
   "metadata": {},
   "outputs": [],
   "source": [
    "import pandas as pd\n",
    "\n",
    "df = pd.read_csv(\"./data/raw/train_cax.csv\")\n",
    "oof = pd.read_csv(\"./data/result/oof.csv\")\n",
    "\n",
    "dt = pd.read_csv(\"./data/raw/test_cax.csv\")\n",
    "ds = pd.read_csv(\"./data/result/LSTM_submit.csv\")\n",
    "\n",
    "dt[\"label\"] = list(ds[\"label\"])\n",
    "df[\"pred\"] = oof[\"pred_label\"]"
   ]
  },
  {
   "cell_type": "code",
   "execution_count": 2,
   "metadata": {},
   "outputs": [
    {
     "name": "stdout",
     "output_type": "stream",
     "text": [
      "0 1 \t 1860 174921 \t 0\n",
      "0 2 \t 1860 16100 \t 0\n",
      "0 3 \t 1860 155569 \t 0\n",
      "0 4 \t 1860 154186 \t 0\n",
      "1 2 \t 174921 16100 \t 0\n",
      "1 3 \t 174921 155569 \t 0\n",
      "1 4 \t 174921 154186 \t 0\n",
      "2 3 \t 16100 155569 \t 0\n",
      "2 4 \t 16100 154186 \t 0\n",
      "3 4 \t 155569 154186 \t 0\n"
     ]
    }
   ],
   "source": [
    "from math import floor\n",
    "\n",
    "df[\"leak\"] = df[\"GR\"]*100\n",
    "df[\"leak\"] = df[\"leak\"] - df[\"leak\"].apply(floor)\n",
    "df[\"leak\"] = df[\"leak\"].apply(lambda x: round(x, 11))\n",
    "\n",
    "for i in range(5):\n",
    "    for j in range(i+1,5):\n",
    "        a = set(df[df[\"label\"]==i][\"leak\"].value_counts().keys())\n",
    "        b = set(df[df[\"label\"]==j][\"leak\"].value_counts().keys())\n",
    "        print(i,j,\"\\t\",len(a),len(b),\"\\t\",len(a&b))"
   ]
  },
  {
   "cell_type": "code",
   "execution_count": 3,
   "metadata": {},
   "outputs": [
    {
     "name": "stdout",
     "output_type": "stream",
     "text": [
      "0 1 \t 2019 175576 \t 168\n",
      "0 2 \t 2019 16741 \t 9\n",
      "0 3 \t 2019 156497 \t 39\n",
      "0 4 \t 2019 155072 \t 45\n",
      "1 2 \t 175576 16741 \t 301\n",
      "1 3 \t 175576 156497 \t 711\n",
      "1 4 \t 175576 155072 \t 706\n",
      "2 3 \t 16741 156497 \t 417\n",
      "2 4 \t 16741 155072 \t 468\n",
      "3 4 \t 156497 155072 \t 539\n"
     ]
    },
    {
     "data": {
      "text/plain": [
       "3135"
      ]
     },
     "execution_count": 3,
     "metadata": {},
     "output_type": "execute_result"
    }
   ],
   "source": [
    "s = set()\n",
    "\n",
    "for i in range(5):\n",
    "    for j in range(i+1,5):\n",
    "        a = set(df[df[\"pred\"]==i][\"leak\"].value_counts().keys())\n",
    "        b = set(df[df[\"pred\"]==j][\"leak\"].value_counts().keys())\n",
    "        print(i,j,\"\\t\",len(a),len(b),\"\\t\",len(a&b))\n",
    "        s |= a&b\n",
    "        \n",
    "len(s)"
   ]
  },
  {
   "cell_type": "code",
   "execution_count": 4,
   "metadata": {},
   "outputs": [
    {
     "data": {
      "text/plain": [
       "0.9951895454545454"
      ]
     },
     "execution_count": 4,
     "metadata": {},
     "output_type": "execute_result"
    }
   ],
   "source": [
    "1-len(df[df[\"label\"]!=df[\"pred\"]])/len(df)"
   ]
  },
  {
   "cell_type": "code",
   "execution_count": 5,
   "metadata": {},
   "outputs": [
    {
     "data": {
      "application/vnd.jupyter.widget-view+json": {
       "model_id": "8cf398d7fd074e8d877e4baff99eeadf",
       "version_major": 2,
       "version_minor": 0
      },
      "text/plain": [
       "HBox(children=(IntProgress(value=0, max=3135), HTML(value='')))"
      ]
     },
     "metadata": {},
     "output_type": "display_data"
    },
    {
     "name": "stdout",
     "output_type": "stream",
     "text": [
      "\n"
     ]
    }
   ],
   "source": [
    "from tqdm import tqdm_notebook as tqdm\n",
    "d = dict()\n",
    "for c in tqdm(list(s)):\n",
    "    k = df[df[\"leak\"]==c][\"pred\"].value_counts().keys()[0]\n",
    "    d[c] = k"
   ]
  },
  {
   "cell_type": "code",
   "execution_count": 6,
   "metadata": {},
   "outputs": [
    {
     "data": {
      "application/vnd.jupyter.widget-view+json": {
       "model_id": "33002bfe05834b36bdb9f0fac9b0fac8",
       "version_major": 2,
       "version_minor": 0
      },
      "text/plain": [
       "HBox(children=(IntProgress(value=0, max=4400000), HTML(value='')))"
      ]
     },
     "metadata": {},
     "output_type": "display_data"
    },
    {
     "name": "stdout",
     "output_type": "stream",
     "text": [
      "\n"
     ]
    }
   ],
   "source": [
    "res = []\n",
    "for k, v in tqdm(zip(df[\"leak\"], df[\"pred\"]), total=len(df)):\n",
    "    if k in d:\n",
    "        res.append(d[k])\n",
    "    else:\n",
    "        res.append(v)"
   ]
  },
  {
   "cell_type": "code",
   "execution_count": 7,
   "metadata": {},
   "outputs": [
    {
     "name": "stdout",
     "output_type": "stream",
     "text": [
      "0.9960870454545454\n"
     ]
    }
   ],
   "source": [
    "df[\"res\"] = res\n",
    "print(1-len(df[df[\"label\"]!=df[\"res\"]])/len(df))"
   ]
  },
  {
   "cell_type": "code",
   "execution_count": 8,
   "metadata": {},
   "outputs": [
    {
     "name": "stdout",
     "output_type": "stream",
     "text": [
      "0 1 \t 1942 89413 \t 92\n",
      "0 2 \t 1942 8422 \t 4\n",
      "0 3 \t 1942 78105 \t 22\n",
      "0 4 \t 1942 80352 \t 12\n",
      "1 2 \t 89413 8422 \t 125\n",
      "1 3 \t 89413 78105 \t 253\n",
      "1 4 \t 89413 80352 \t 229\n",
      "2 3 \t 8422 78105 \t 142\n",
      "2 4 \t 8422 80352 \t 149\n",
      "3 4 \t 78105 80352 \t 214\n"
     ]
    },
    {
     "data": {
      "text/plain": [
       "1126"
      ]
     },
     "execution_count": 8,
     "metadata": {},
     "output_type": "execute_result"
    }
   ],
   "source": [
    "dt[\"leak\"] = dt[\"GR\"]*100\n",
    "dt[\"leak\"] = dt[\"leak\"] - dt[\"leak\"].apply(floor)\n",
    "dt[\"leak\"] = dt[\"leak\"].apply(lambda x: round(x, 11))\n",
    "\n",
    "ss = set()\n",
    "\n",
    "for i in range(5):\n",
    "    for j in range(i+1,5):\n",
    "        a = set(dt[dt[\"label\"]==i][\"leak\"].value_counts().keys())\n",
    "        b = set(dt[dt[\"label\"]==j][\"leak\"].value_counts().keys())\n",
    "        print(i,j,\"\\t\",len(a),len(b),\"\\t\",len(a&b))\n",
    "        ss |= a&b\n",
    "        \n",
    "len(ss)"
   ]
  },
  {
   "cell_type": "code",
   "execution_count": 9,
   "metadata": {},
   "outputs": [
    {
     "data": {
      "application/vnd.jupyter.widget-view+json": {
       "model_id": "9f67041165574f9788a3d69f2cbd1942",
       "version_major": 2,
       "version_minor": 0
      },
      "text/plain": [
       "HBox(children=(IntProgress(value=0, max=1126), HTML(value='')))"
      ]
     },
     "metadata": {},
     "output_type": "display_data"
    },
    {
     "name": "stdout",
     "output_type": "stream",
     "text": [
      "\n"
     ]
    }
   ],
   "source": [
    "dd = dict()\n",
    "for c in tqdm(list(ss)):\n",
    "    k = dt[dt[\"leak\"]==c][\"label\"].value_counts().keys()[0]\n",
    "    dd[c] = k"
   ]
  },
  {
   "cell_type": "code",
   "execution_count": 10,
   "metadata": {},
   "outputs": [
    {
     "data": {
      "application/vnd.jupyter.widget-view+json": {
       "model_id": "e97e94f0cb5d4ee9b7f933f6246dd7bc",
       "version_major": 2,
       "version_minor": 0
      },
      "text/plain": [
       "HBox(children=(IntProgress(value=0, max=2200000), HTML(value='')))"
      ]
     },
     "metadata": {},
     "output_type": "display_data"
    },
    {
     "name": "stdout",
     "output_type": "stream",
     "text": [
      "\n"
     ]
    }
   ],
   "source": [
    "res = []\n",
    "for k, v in tqdm(zip(dt[\"leak\"], dt[\"label\"]), total=len(dt)):\n",
    "    if k in dd:\n",
    "        res.append(dd[k])\n",
    "    else:\n",
    "        res.append(v)\n",
    "        \n",
    "dt[\"label\"] = res"
   ]
  },
  {
   "cell_type": "code",
   "execution_count": 11,
   "metadata": {},
   "outputs": [],
   "source": [
    "dt[[\"unique_id\",\"label\"]].to_csv(\"./data/result/processed.csv\", index=False)"
   ]
  },
  {
   "cell_type": "code",
   "execution_count": 65,
   "metadata": {},
   "outputs": [
    {
     "data": {
      "text/html": [
       "<div>\n",
       "<style scoped>\n",
       "    .dataframe tbody tr th:only-of-type {\n",
       "        vertical-align: middle;\n",
       "    }\n",
       "\n",
       "    .dataframe tbody tr th {\n",
       "        vertical-align: top;\n",
       "    }\n",
       "\n",
       "    .dataframe thead th {\n",
       "        text-align: right;\n",
       "    }\n",
       "</style>\n",
       "<table border=\"1\" class=\"dataframe\">\n",
       "  <thead>\n",
       "    <tr style=\"text-align: right;\">\n",
       "      <th></th>\n",
       "      <th>row_id</th>\n",
       "      <th>well_id</th>\n",
       "      <th>GR</th>\n",
       "      <th>label</th>\n",
       "      <th>pred</th>\n",
       "      <th>leak</th>\n",
       "      <th>res</th>\n",
       "    </tr>\n",
       "  </thead>\n",
       "  <tbody>\n",
       "    <tr>\n",
       "      <th>2126725</th>\n",
       "      <td>425</td>\n",
       "      <td>1933</td>\n",
       "      <td>145.880373</td>\n",
       "      <td>1</td>\n",
       "      <td>1</td>\n",
       "      <td>0.037278</td>\n",
       "      <td>1</td>\n",
       "    </tr>\n",
       "    <tr>\n",
       "      <th>2126726</th>\n",
       "      <td>426</td>\n",
       "      <td>1933</td>\n",
       "      <td>141.692931</td>\n",
       "      <td>1</td>\n",
       "      <td>1</td>\n",
       "      <td>0.293092</td>\n",
       "      <td>1</td>\n",
       "    </tr>\n",
       "    <tr>\n",
       "      <th>2126727</th>\n",
       "      <td>427</td>\n",
       "      <td>1933</td>\n",
       "      <td>154.785489</td>\n",
       "      <td>1</td>\n",
       "      <td>1</td>\n",
       "      <td>0.548906</td>\n",
       "      <td>1</td>\n",
       "    </tr>\n",
       "    <tr>\n",
       "      <th>2126728</th>\n",
       "      <td>428</td>\n",
       "      <td>1933</td>\n",
       "      <td>144.978047</td>\n",
       "      <td>1</td>\n",
       "      <td>1</td>\n",
       "      <td>0.804720</td>\n",
       "      <td>1</td>\n",
       "    </tr>\n",
       "    <tr>\n",
       "      <th>2126729</th>\n",
       "      <td>429</td>\n",
       "      <td>1933</td>\n",
       "      <td>158.190605</td>\n",
       "      <td>1</td>\n",
       "      <td>1</td>\n",
       "      <td>0.060534</td>\n",
       "      <td>1</td>\n",
       "    </tr>\n",
       "    <tr>\n",
       "      <th>2126730</th>\n",
       "      <td>430</td>\n",
       "      <td>1933</td>\n",
       "      <td>147.193163</td>\n",
       "      <td>1</td>\n",
       "      <td>1</td>\n",
       "      <td>0.316348</td>\n",
       "      <td>1</td>\n",
       "    </tr>\n",
       "    <tr>\n",
       "      <th>2126731</th>\n",
       "      <td>431</td>\n",
       "      <td>1933</td>\n",
       "      <td>162.135722</td>\n",
       "      <td>1</td>\n",
       "      <td>1</td>\n",
       "      <td>0.572162</td>\n",
       "      <td>1</td>\n",
       "    </tr>\n",
       "    <tr>\n",
       "      <th>2126732</th>\n",
       "      <td>432</td>\n",
       "      <td>1933</td>\n",
       "      <td>104.948973</td>\n",
       "      <td>4</td>\n",
       "      <td>3</td>\n",
       "      <td>0.897272</td>\n",
       "      <td>2</td>\n",
       "    </tr>\n",
       "    <tr>\n",
       "      <th>2126733</th>\n",
       "      <td>433</td>\n",
       "      <td>1933</td>\n",
       "      <td>141.578973</td>\n",
       "      <td>4</td>\n",
       "      <td>3</td>\n",
       "      <td>0.897272</td>\n",
       "      <td>2</td>\n",
       "    </tr>\n",
       "    <tr>\n",
       "      <th>2126734</th>\n",
       "      <td>434</td>\n",
       "      <td>1933</td>\n",
       "      <td>143.368973</td>\n",
       "      <td>4</td>\n",
       "      <td>4</td>\n",
       "      <td>0.897272</td>\n",
       "      <td>2</td>\n",
       "    </tr>\n",
       "    <tr>\n",
       "      <th>2126735</th>\n",
       "      <td>435</td>\n",
       "      <td>1933</td>\n",
       "      <td>122.468973</td>\n",
       "      <td>4</td>\n",
       "      <td>4</td>\n",
       "      <td>0.897272</td>\n",
       "      <td>2</td>\n",
       "    </tr>\n",
       "    <tr>\n",
       "      <th>2126736</th>\n",
       "      <td>436</td>\n",
       "      <td>1933</td>\n",
       "      <td>129.558973</td>\n",
       "      <td>4</td>\n",
       "      <td>4</td>\n",
       "      <td>0.897272</td>\n",
       "      <td>2</td>\n",
       "    </tr>\n",
       "    <tr>\n",
       "      <th>2126737</th>\n",
       "      <td>437</td>\n",
       "      <td>1933</td>\n",
       "      <td>128.017862</td>\n",
       "      <td>4</td>\n",
       "      <td>4</td>\n",
       "      <td>0.786161</td>\n",
       "      <td>4</td>\n",
       "    </tr>\n",
       "    <tr>\n",
       "      <th>2126738</th>\n",
       "      <td>438</td>\n",
       "      <td>1933</td>\n",
       "      <td>140.376750</td>\n",
       "      <td>4</td>\n",
       "      <td>3</td>\n",
       "      <td>0.675050</td>\n",
       "      <td>3</td>\n",
       "    </tr>\n",
       "    <tr>\n",
       "      <th>2126739</th>\n",
       "      <td>439</td>\n",
       "      <td>1933</td>\n",
       "      <td>135.905639</td>\n",
       "      <td>4</td>\n",
       "      <td>4</td>\n",
       "      <td>0.563939</td>\n",
       "      <td>4</td>\n",
       "    </tr>\n",
       "    <tr>\n",
       "      <th>2126740</th>\n",
       "      <td>440</td>\n",
       "      <td>1933</td>\n",
       "      <td>123.794528</td>\n",
       "      <td>4</td>\n",
       "      <td>4</td>\n",
       "      <td>0.452828</td>\n",
       "      <td>4</td>\n",
       "    </tr>\n",
       "    <tr>\n",
       "      <th>2126741</th>\n",
       "      <td>441</td>\n",
       "      <td>1933</td>\n",
       "      <td>130.453417</td>\n",
       "      <td>4</td>\n",
       "      <td>4</td>\n",
       "      <td>0.341716</td>\n",
       "      <td>4</td>\n",
       "    </tr>\n",
       "    <tr>\n",
       "      <th>2126742</th>\n",
       "      <td>442</td>\n",
       "      <td>1933</td>\n",
       "      <td>140.692306</td>\n",
       "      <td>4</td>\n",
       "      <td>4</td>\n",
       "      <td>0.230605</td>\n",
       "      <td>4</td>\n",
       "    </tr>\n",
       "    <tr>\n",
       "      <th>2126743</th>\n",
       "      <td>443</td>\n",
       "      <td>1933</td>\n",
       "      <td>115.141195</td>\n",
       "      <td>4</td>\n",
       "      <td>4</td>\n",
       "      <td>0.119494</td>\n",
       "      <td>4</td>\n",
       "    </tr>\n",
       "    <tr>\n",
       "      <th>2126744</th>\n",
       "      <td>444</td>\n",
       "      <td>1933</td>\n",
       "      <td>131.310084</td>\n",
       "      <td>4</td>\n",
       "      <td>3</td>\n",
       "      <td>0.008383</td>\n",
       "      <td>3</td>\n",
       "    </tr>\n",
       "  </tbody>\n",
       "</table>\n",
       "</div>"
      ],
      "text/plain": [
       "         row_id  well_id          GR  label  pred      leak  res\n",
       "2126725     425     1933  145.880373      1     1  0.037278    1\n",
       "2126726     426     1933  141.692931      1     1  0.293092    1\n",
       "2126727     427     1933  154.785489      1     1  0.548906    1\n",
       "2126728     428     1933  144.978047      1     1  0.804720    1\n",
       "2126729     429     1933  158.190605      1     1  0.060534    1\n",
       "2126730     430     1933  147.193163      1     1  0.316348    1\n",
       "2126731     431     1933  162.135722      1     1  0.572162    1\n",
       "2126732     432     1933  104.948973      4     3  0.897272    2\n",
       "2126733     433     1933  141.578973      4     3  0.897272    2\n",
       "2126734     434     1933  143.368973      4     4  0.897272    2\n",
       "2126735     435     1933  122.468973      4     4  0.897272    2\n",
       "2126736     436     1933  129.558973      4     4  0.897272    2\n",
       "2126737     437     1933  128.017862      4     4  0.786161    4\n",
       "2126738     438     1933  140.376750      4     3  0.675050    3\n",
       "2126739     439     1933  135.905639      4     4  0.563939    4\n",
       "2126740     440     1933  123.794528      4     4  0.452828    4\n",
       "2126741     441     1933  130.453417      4     4  0.341716    4\n",
       "2126742     442     1933  140.692306      4     4  0.230605    4\n",
       "2126743     443     1933  115.141195      4     4  0.119494    4\n",
       "2126744     444     1933  131.310084      4     3  0.008383    3"
      ]
     },
     "execution_count": 65,
     "metadata": {},
     "output_type": "execute_result"
    }
   ],
   "source": [
    "from random import choice\n",
    "\n",
    "idx = df[df[\"label\"]!=df[\"res\"]].index\n",
    "k = choice(list(idx))\n",
    "\n",
    "df.iloc[k-10:k+10,:]"
   ]
  }
 ],
 "metadata": {
  "kernelspec": {
   "display_name": "Python 3",
   "language": "python",
   "name": "python3"
  },
  "language_info": {
   "codemirror_mode": {
    "name": "ipython",
    "version": 3
   },
   "file_extension": ".py",
   "mimetype": "text/x-python",
   "name": "python",
   "nbconvert_exporter": "python",
   "pygments_lexer": "ipython3",
   "version": "3.7.3"
  }
 },
 "nbformat": 4,
 "nbformat_minor": 2
}
