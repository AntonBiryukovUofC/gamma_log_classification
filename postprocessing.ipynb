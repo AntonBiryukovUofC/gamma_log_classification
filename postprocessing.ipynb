{
 "cells": [
  {
   "cell_type": "code",
   "execution_count": 1,
   "metadata": {},
   "outputs": [],
   "source": [
    "import pandas as pd\n",
    "\n",
    "df = pd.read_csv(\"./data/raw/train_cax.csv\")\n",
    "oof = pd.read_csv(\"./data/result/oof.csv\")\n",
    "\n",
    "dt = pd.read_csv(\"./data/raw/test_cax.csv\")\n",
    "ds = pd.read_csv(\"./data/result/LSTM_submit.csv\")\n",
    "\n",
    "dt[\"label\"] = list(ds[\"label\"])\n",
    "df[\"pred\"] = oof[\"pred_label\"]"
   ]
  },
  {
   "cell_type": "code",
   "execution_count": 2,
   "metadata": {},
   "outputs": [
    {
     "name": "stdout",
     "output_type": "stream",
     "text": [
      "0 1 \t 1860 174921 \t 0\n",
      "0 2 \t 1860 16100 \t 0\n",
      "0 3 \t 1860 155569 \t 0\n",
      "0 4 \t 1860 154186 \t 0\n",
      "1 2 \t 174921 16100 \t 0\n",
      "1 3 \t 174921 155569 \t 0\n",
      "1 4 \t 174921 154186 \t 0\n",
      "2 3 \t 16100 155569 \t 0\n",
      "2 4 \t 16100 154186 \t 0\n",
      "3 4 \t 155569 154186 \t 0\n"
     ]
    }
   ],
   "source": [
    "from math import floor\n",
    "\n",
    "df[\"leak\"] = df[\"GR\"]*100\n",
    "df[\"leak\"] = df[\"leak\"] - df[\"leak\"].apply(floor)\n",
    "df[\"leak\"] = df[\"leak\"].apply(lambda x: round(x, 11))\n",
    "\n",
    "for i in range(5):\n",
    "    for j in range(i+1,5):\n",
    "        a = set(df[df[\"label\"]==i][\"leak\"].value_counts().keys())\n",
    "        b = set(df[df[\"label\"]==j][\"leak\"].value_counts().keys())\n",
    "        print(i,j,\"\\t\",len(a),len(b),\"\\t\",len(a&b))"
   ]
  },
  {
   "cell_type": "code",
   "execution_count": 3,
   "metadata": {},
   "outputs": [
    {
     "name": "stdout",
     "output_type": "stream",
     "text": [
      "0 1 \t 2019 175576 \t 168\n",
      "0 2 \t 2019 16741 \t 9\n",
      "0 3 \t 2019 156497 \t 39\n",
      "0 4 \t 2019 155072 \t 45\n",
      "1 2 \t 175576 16741 \t 301\n",
      "1 3 \t 175576 156497 \t 711\n",
      "1 4 \t 175576 155072 \t 706\n",
      "2 3 \t 16741 156497 \t 417\n",
      "2 4 \t 16741 155072 \t 468\n",
      "3 4 \t 156497 155072 \t 539\n"
     ]
    },
    {
     "data": {
      "text/plain": [
       "3135"
      ]
     },
     "execution_count": 3,
     "metadata": {},
     "output_type": "execute_result"
    }
   ],
   "source": [
    "s = set()\n",
    "\n",
    "for i in range(5):\n",
    "    for j in range(i+1,5):\n",
    "        a = set(df[df[\"pred\"]==i][\"leak\"].value_counts().keys())\n",
    "        b = set(df[df[\"pred\"]==j][\"leak\"].value_counts().keys())\n",
    "        print(i,j,\"\\t\",len(a),len(b),\"\\t\",len(a&b))\n",
    "        s |= a&b\n",
    "        \n",
    "len(s)"
   ]
  },
  {
   "cell_type": "code",
   "execution_count": 4,
   "metadata": {},
   "outputs": [
    {
     "data": {
      "text/plain": [
       "0.9951895454545454"
      ]
     },
     "execution_count": 4,
     "metadata": {},
     "output_type": "execute_result"
    }
   ],
   "source": [
    "1-len(df[df[\"label\"]!=df[\"pred\"]])/len(df)"
   ]
  },
  {
   "cell_type": "code",
   "execution_count": null,
   "metadata": {},
   "outputs": [
    {
     "data": {
      "application/vnd.jupyter.widget-view+json": {
       "model_id": "8cf398d7fd074e8d877e4baff99eeadf",
       "version_major": 2,
       "version_minor": 0
      },
      "text/plain": [
       "HBox(children=(IntProgress(value=0, max=3135), HTML(value='')))"
      ]
     },
     "metadata": {},
     "output_type": "display_data"
    }
   ],
   "source": [
    "from tqdm import tqdm_notebook as tqdm\n",
    "d = dict()\n",
    "for c in tqdm(list(s)):\n",
    "    k = df[df[\"leak\"]==c][\"pred\"].value_counts().keys()[0]\n",
    "    d[c] = k"
   ]
  },
  {
   "cell_type": "code",
   "execution_count": null,
   "metadata": {},
   "outputs": [],
   "source": [
    "res = []\n",
    "for k, v in tqdm(zip(df[\"leak\"], df[\"pred\"]), total=len(df)):\n",
    "    if k in d:\n",
    "        res.append(d[k])\n",
    "    else:\n",
    "        res.append(v)"
   ]
  },
  {
   "cell_type": "code",
   "execution_count": null,
   "metadata": {},
   "outputs": [],
   "source": [
    "df[\"res\"] = res\n",
    "print(1-len(df[df[\"label\"]!=df[\"res\"]])/len(df))"
   ]
  },
  {
   "cell_type": "code",
   "execution_count": null,
   "metadata": {},
   "outputs": [],
   "source": [
    "dt[\"leak\"] = dt[\"GR\"]*100\n",
    "dt[\"leak\"] = dt[\"leak\"] - dt[\"leak\"].apply(floor)\n",
    "dt[\"leak\"] = dt[\"leak\"].apply(lambda x: round(x, 11))\n",
    "\n",
    "ss = set()\n",
    "\n",
    "for i in range(5):\n",
    "    for j in range(i+1,5):\n",
    "        a = set(dt[dt[\"label\"]==i][\"leak\"].value_counts().keys())\n",
    "        b = set(dt[dt[\"label\"]==j][\"leak\"].value_counts().keys())\n",
    "        print(i,j,\"\\t\",len(a),len(b),\"\\t\",len(a&b))\n",
    "        ss |= a&b\n",
    "        \n",
    "len(ss)"
   ]
  },
  {
   "cell_type": "code",
   "execution_count": null,
   "metadata": {},
   "outputs": [],
   "source": [
    "dd = dict()\n",
    "for c in tqdm(list(ss)):\n",
    "    k = dt[dt[\"leak\"]==c][\"label\"].value_counts().keys()[0]\n",
    "    dd[c] = k"
   ]
  },
  {
   "cell_type": "code",
   "execution_count": null,
   "metadata": {},
   "outputs": [],
   "source": [
    "res = []\n",
    "for k, v in tqdm(zip(dt[\"leak\"], dt[\"label\"]), total=len(dt)):\n",
    "    if k in dd:\n",
    "        res.append(dd[k])\n",
    "    else:\n",
    "        res.append(v)\n",
    "        \n",
    "dt[\"label\"] = res"
   ]
  },
  {
   "cell_type": "code",
   "execution_count": null,
   "metadata": {},
   "outputs": [],
   "source": [
    "dt[[\"unique_id\",\"label\"]].to_csv(\"./data/result/processed.csv\", index=False)"
   ]
  }
 ],
 "metadata": {
  "kernelspec": {
   "display_name": "Python 3",
   "language": "python",
   "name": "python3"
  },
  "language_info": {
   "codemirror_mode": {
    "name": "ipython",
    "version": 3
   },
   "file_extension": ".py",
   "mimetype": "text/x-python",
   "name": "python",
   "nbconvert_exporter": "python",
   "pygments_lexer": "ipython3",
   "version": "3.7.3"
  }
 },
 "nbformat": 4,
 "nbformat_minor": 2
}
