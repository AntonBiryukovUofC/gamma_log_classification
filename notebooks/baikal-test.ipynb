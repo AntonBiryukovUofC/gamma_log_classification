{
 "cells": [
  {
   "cell_type": "code",
   "execution_count": 30,
   "metadata": {},
   "outputs": [],
   "source": [
    "import pandas as pd\n",
    "import numpy as np\n",
    "import pickle\n",
    "import altair as alt\n",
    "import os\n",
    "from sklearn.metrics import accuracy_score\n"
   ]
  },
  {
   "cell_type": "code",
   "execution_count": 58,
   "metadata": {},
   "outputs": [],
   "source": [
    "input_file_path = os.path.join('..', \"data\", \"processed\")\n",
    "tgt='label'\n",
    "input_file_name = os.path.join(input_file_path, \"train.pck\")\n",
    "input_file_name_test = os.path.join(input_file_path, \"test.pck\")\n",
    "# output_file_name = os.path.join(output_file_path, f\"models_lgbm.pck\")\n",
    "df = pd.read_pickle(input_file_name)\n",
    "\n",
    "models = []\n",
    "scores = []\n",
    "f1_scores = []\n",
    "\n",
    "y = df.loc[:, tgt]\n",
    "X = df.drop([\"well_id\", tgt,'row_id'], axis=1)    \n",
    "X = X.fillna(np.nanmean(X))\n",
    "\n",
    "groups = df.loc[:, 'well_id']\n",
    "wells_train = np.arange(30)\n",
    "wells_test=np.arange(30,100)\n",
    "X_train, y_train = X.loc[df['well_id'].isin(wells_train),:],y.loc[df['well_id'].isin(wells_train)]\n",
    "\n",
    "X_test, y_test = X.loc[df['well_id'].isin(wells_test),:],y.loc[df['well_id'].isin(wells_test)]\n",
    "groups_train = df['well_id'].loc[df['well_id'].isin(wells_train)]\n"
   ]
  },
  {
   "cell_type": "code",
   "execution_count": 60,
   "metadata": {},
   "outputs": [
    {
     "name": "stdout",
     "output_type": "stream",
     "text": [
      "shifting\n",
      "shifting\n",
      "Fitting 3 classifiers...\n",
      "Fitting classifier1: lgbmclassifier (1/3)\n",
      "Fitting classifier2: xgbclassifier (2/3)\n",
      "Fitting classifier3: pipeline (3/3)\n",
      "[-50 -45 -40 -35 -30 -25 -20 -15 -10  -5   0   5  10  15  20  25  30  35\n",
      "  40  45]\n",
      "300\n"
     ]
    },
    {
     "data": {
      "text/plain": [
       "StackingClassifier(average_probas=False,\n",
       "                   classifiers=[LGBMClassifier(boosting_type='gbdt',\n",
       "                                               class_weight=None,\n",
       "                                               colsample_bytree=1.0,\n",
       "                                               feature_fraction=0.2,\n",
       "                                               importance_type='split',\n",
       "                                               is_unbalance=True,\n",
       "                                               learning_rate=0.08, max_depth=-1,\n",
       "                                               min_child_samples=20,\n",
       "                                               min_child_weight=0.001,\n",
       "                                               min_split_gain=0.0,\n",
       "                                               n_estimators=400, n_jobs=-1,\n",
       "                                               num_leaves=8,\n",
       "                                               objective='multiclassova...\n",
       "                                                                   min_child_samples=20,\n",
       "                                                                   min_child_weight=0.001,\n",
       "                                                                   min_split_gain=0.0,\n",
       "                                                                   n_estimators=200,\n",
       "                                                                   n_jobs=-1,\n",
       "                                                                   num_leaves=31,\n",
       "                                                                   objective=None,\n",
       "                                                                   random_state=231,\n",
       "                                                                   reg_alpha=0.0,\n",
       "                                                                   reg_lambda=0.0,\n",
       "                                                                   silent=True,\n",
       "                                                                   subsample=1.0,\n",
       "                                                                   subsample_for_bin=200000,\n",
       "                                                                   subsample_freq=0))],\n",
       "                                            verbose=False),\n",
       "                   store_train_meta_features=True, use_clones=True,\n",
       "                   use_features_in_secondary=False, use_probas=True, verbose=1)"
      ]
     },
     "execution_count": 60,
     "metadata": {},
     "output_type": "execute_result"
    }
   ],
   "source": [
    "from lightgbm import LGBMClassifier\n",
    "from xgboost import XGBClassifier,XGBRFClassifier\n",
    "from baikal import Input, Model, make_step\n",
    "from baikal.plot import plot_model\n",
    "from baikal.steps import Concatenate\n",
    "from mlxtend.classifier import StackingClassifier\n",
    "from sklearn.base import BaseEstimator, TransformerMixin\n",
    "from sklearn.preprocessing import OneHotEncoder, StandardScaler\n",
    "from sklearn.pipeline import FeatureUnion, Pipeline,make_pipeline\n",
    "from sklearn.svm import SVC\n",
    "\n",
    "class GroupedShifter( BaseEstimator, TransformerMixin ):\n",
    "    #Class Constructor\n",
    "    \n",
    "    def __init__( self):    \n",
    "        print(f'shifting')\n",
    "    #Return self nothing else to do here    \n",
    "    def fit( self, X, y = None ):\n",
    "        return self \n",
    "    \n",
    "    #Method that describes what we need this transformer to do\n",
    "    def transform( self, X, y = None ):\n",
    "        df = pd.DataFrame(data=X,columns =[f'F_{i}' for i in range(X.shape[1])],index=np.arange(X.shape[0]))\n",
    "        df['group'] = (1+np.arange(X.shape[0])) // 1100\n",
    "        grouped = df.groupby('group')\n",
    "        df_new_list = []\n",
    "        shifts=np.arange(-50,50,5) \n",
    "        print(shifts)\n",
    "        for s in shifts:\n",
    "            df_shifted = grouped.shift(s)\n",
    "            df_new_list.append(df_shifted.copy().values)\n",
    "        X_shifted = np.concatenate(df_new_list,axis=1)\n",
    "        X_all = np.concatenate([X_shifted],axis=1)\n",
    "        print(X_all.shape[1])\n",
    "        return X_all\n",
    "    \n",
    "\n",
    "meta_clf = make_pipeline(GroupedShifter(),LGBMClassifier(random_state=231,n_estimators = 200,learning_rate=0.08))\n",
    "sclf = StackingClassifier(classifiers=[LGBMClassifier(n_estimators= 400,\n",
    "                                                      learning_rate=0.08,\n",
    "                               feature_fraction=0.2,\n",
    "            objective=\"multiclassova\",\n",
    "            is_unbalance = True,\n",
    "            num_leaves=8,\n",
    "            random_state=5,\n",
    "            n_jobs=-1,), XGBClassifier(random_state=123,n_estimators=300,feature_fraction=0.2),\n",
    "                                      make_pipeline(StandardScaler(),\n",
    "                              SVC(C=5e0,gamma='scale',probability=True))], \n",
    "                          meta_classifier=meta_clf,use_probas=True,\n",
    "                          use_features_in_secondary=False,store_train_meta_features=True,verbose=1)\n",
    "sclf.fit(X_train,y_train)\n",
    "\n",
    "#model.fit(X_train, y_train)\n",
    "\n"
   ]
  },
  {
   "cell_type": "code",
   "execution_count": null,
   "metadata": {},
   "outputs": [],
   "source": [
    "sclf.predict(X_test)"
   ]
  },
  {
   "cell_type": "code",
   "execution_count": 54,
   "metadata": {},
   "outputs": [
    {
     "name": "stdout",
     "output_type": "stream",
     "text": [
      "[-40 -35 -30 -25 -20 -15 -10  -5   0   5  10  15  20  25  30  35]\n",
      "160\n"
     ]
    },
    {
     "data": {
      "text/plain": [
       "0.8823896103896104"
      ]
     },
     "execution_count": 54,
     "metadata": {},
     "output_type": "execute_result"
    }
   ],
   "source": [
    "accuracy_score(y_test,sclf.predict(X_test))"
   ]
  },
  {
   "cell_type": "code",
   "execution_count": 33,
   "metadata": {},
   "outputs": [
    {
     "data": {
      "text/plain": [
       "array([[9.99885863e-01, 2.38862477e-05, 1.51248064e-05, ...,\n",
       "        1.51248064e-05, 4.92851984e-05, 2.58412298e-05],\n",
       "       [9.99894511e-01, 2.38864543e-05, 1.51249372e-05, ...,\n",
       "        1.51249372e-05, 4.06358598e-05, 2.58414533e-05],\n",
       "       [9.99893386e-01, 3.02683833e-05, 1.40612105e-05, ...,\n",
       "        1.40612105e-05, 3.92344469e-05, 2.30496937e-05],\n",
       "       ...,\n",
       "       [9.99597353e-01, 7.14226223e-05, 1.84255213e-05, ...,\n",
       "        1.84255213e-05, 4.82794956e-05, 2.64519110e-04],\n",
       "       [9.99136569e-01, 1.54440101e-04, 3.97519752e-05, ...,\n",
       "        3.97519752e-05, 1.04160163e-04, 5.65079024e-04],\n",
       "       [9.98681760e-01, 2.22573183e-04, 5.87206899e-05, ...,\n",
       "        5.87206899e-05, 1.68782634e-04, 8.68163490e-04]])"
      ]
     },
     "execution_count": 33,
     "metadata": {},
     "output_type": "execute_result"
    }
   ],
   "source": [
    "\n",
    "LGBM = make_step(LGBMClassifier)\n",
    "XGB = make_step(XGBClassifier)\n",
    "x_in = Input()\n",
    "y_in = Input()\n",
    "lgbm_p = LGBM(function = 'predict_proba')(x_in,y_in)\n",
    "xgb_p = XGB(function = 'predict_proba')(x_in,y_in)\n",
    "ens_features = Concatenate()([lgbm_p,xgb_p])\n",
    "model = Model(x_in,ens_features,y_in)\n",
    "plot_model(model,show=True,filename='model.png',dpi=120)\n"
   ]
  },
  {
   "cell_type": "code",
   "execution_count": null,
   "metadata": {},
   "outputs": [],
   "source": []
  }
 ],
 "metadata": {
  "kernelspec": {
   "display_name": "Python 3",
   "language": "python",
   "name": "python3"
  },
  "language_info": {
   "codemirror_mode": {
    "name": "ipython",
    "version": 3
   },
   "file_extension": ".py",
   "mimetype": "text/x-python",
   "name": "python",
   "nbconvert_exporter": "python",
   "pygments_lexer": "ipython3",
   "version": "3.6.7"
  }
 },
 "nbformat": 4,
 "nbformat_minor": 2
}
